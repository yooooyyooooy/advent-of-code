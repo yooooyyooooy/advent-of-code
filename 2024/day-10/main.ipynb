{
 "cells": [
  {
   "cell_type": "code",
   "execution_count": 219,
   "metadata": {},
   "outputs": [],
   "source": [
    "def parse_input(is_test=True) -> list:\n",
    "    file_name = \"input-test.txt\" if is_test else \"input.txt\"\n",
    "\n",
    "    with open(file_name, \"r\") as file:\n",
    "        result = list()\n",
    "        for line in file:\n",
    "            rows = [int(num) for num in line.strip()]\n",
    "            result.append(rows)\n",
    "\n",
    "    return result"
   ]
  },
  {
   "cell_type": "markdown",
   "metadata": {},
   "source": [
    "# Part 1\n"
   ]
  },
  {
   "cell_type": "code",
   "execution_count": 220,
   "metadata": {},
   "outputs": [],
   "source": [
    "def find_zeroes(grid: list) -> list:\n",
    "    return list((i, j) for i in range(len(grid)) for j in range(len(grid[i])) if grid[i][j] == 0)"
   ]
  },
  {
   "cell_type": "code",
   "execution_count": 221,
   "metadata": {},
   "outputs": [],
   "source": [
    "def is_inbound(grid: list, r: int, c: int) -> bool:\n",
    "    row_length = len(grid)\n",
    "    col_length = len(grid[0])\n",
    "\n",
    "    return 0 <= r < row_length and 0 <= c < col_length"
   ]
  },
  {
   "cell_type": "code",
   "execution_count": 222,
   "metadata": {},
   "outputs": [],
   "source": [
    "def walk_to_nine(grid: list, current_location: tuple, former_value: int, path: list) -> list:\n",
    "    current_row, current_col = current_location[0], current_location[1]\n",
    "    if not is_inbound(grid, current_row, current_col):\n",
    "        return list()\n",
    "\n",
    "    current_value = grid[current_row][current_col]\n",
    "    if current_value - former_value != 1:\n",
    "        return list()\n",
    "    if current_value == 9:\n",
    "        return [current_location]\n",
    "\n",
    "    # walk up (-1,0)\n",
    "    walk_up_to_nines = walk_to_nine(grid, (current_row - 1, current_col), current_value, path + [(current_row - 1, current_col)])\n",
    "\n",
    "    # walk down (1,0)\n",
    "    walk_down_to_nines = walk_to_nine(grid, (current_row + 1, current_col), current_value, path + [(current_row + 1, current_col)])\n",
    "\n",
    "    # walk left (0,-1)\n",
    "    walk_left_to_nines = walk_to_nine(grid, (current_row, current_col - 1), current_value, path + [(current_row, current_col - 1)])\n",
    "\n",
    "    # walk right (0,1)\n",
    "    walk_right_to_nines = walk_to_nine(grid, (current_row, current_col + 1), current_value, path + [(current_row, current_col + 1)])\n",
    "\n",
    "    return walk_up_to_nines + walk_down_to_nines + walk_left_to_nines + walk_right_to_nines"
   ]
  },
  {
   "cell_type": "code",
   "execution_count": 223,
   "metadata": {},
   "outputs": [],
   "source": [
    "def solve_part_1():\n",
    "    grid = parse_input(is_test=False)\n",
    "    zeroes = find_zeroes(grid)\n",
    "\n",
    "    result = 0\n",
    "    for zero in zeroes:\n",
    "        zero_row, zero_col = zero[0], zero[1]\n",
    "\n",
    "        walk_up_to_nines = walk_to_nine(grid, (zero_row - 1, zero_col), 0, [(zero_row - 1, zero_col)])\n",
    "        walk_down_to_nines = walk_to_nine(grid, (zero_row + 1, zero_col), 0, [(zero_row + 1, zero_col)])\n",
    "        walk_left_to_nines = walk_to_nine(grid, (zero_row, zero_col - 1), 0, [(zero_row, zero_col - 1)])\n",
    "        walk_right_to_nines = walk_to_nine(grid, (zero_row, zero_col + 1), 0, [(zero_row, zero_col + 1)])\n",
    "\n",
    "        walk_to_nines = walk_up_to_nines + walk_down_to_nines + walk_left_to_nines + walk_right_to_nines\n",
    "        result += len(set(walk_to_nines))\n",
    "\n",
    "    print(f\"sum of all the trailheads score is {result}\")"
   ]
  },
  {
   "cell_type": "code",
   "execution_count": 224,
   "metadata": {},
   "outputs": [
    {
     "name": "stdout",
     "output_type": "stream",
     "text": [
      "sum of all the trailheads score is 482\n"
     ]
    }
   ],
   "source": [
    "solve_part_1()"
   ]
  }
 ],
 "metadata": {
  "kernelspec": {
   "display_name": "venv",
   "language": "python",
   "name": "python3"
  },
  "language_info": {
   "codemirror_mode": {
    "name": "ipython",
    "version": 3
   },
   "file_extension": ".py",
   "mimetype": "text/x-python",
   "name": "python",
   "nbconvert_exporter": "python",
   "pygments_lexer": "ipython3",
   "version": "3.11.10"
  }
 },
 "nbformat": 4,
 "nbformat_minor": 2
}
