{
 "cells": [
  {
   "cell_type": "code",
   "execution_count": 356,
   "metadata": {},
   "outputs": [],
   "source": [
    "def parse_input(is_test=True) -> list:\n",
    "    file_name = \"input-test.txt\" if is_test else \"input.txt\"\n",
    "    with open(file_name, \"r\") as file:\n",
    "        return [list(line.strip()) for line in file]"
   ]
  },
  {
   "cell_type": "markdown",
   "metadata": {},
   "source": [
    "# Part 1\n"
   ]
  },
  {
   "cell_type": "code",
   "execution_count": 357,
   "metadata": {},
   "outputs": [],
   "source": [
    "def is_inbound(grid: list, r: int, c: int) -> bool:\n",
    "    row_length = len(grid)\n",
    "    col_length = len(grid[0])\n",
    "    return 0 <= r < row_length and 0 <= c < col_length"
   ]
  },
  {
   "cell_type": "code",
   "execution_count": 358,
   "metadata": {},
   "outputs": [],
   "source": [
    "def bfs(grid: list, is_visited: set, value: str, loc: tuple, region_row_col: set):\n",
    "    current_row, current_col = loc[0], loc[1]\n",
    "\n",
    "    if not is_inbound(grid, current_row, current_col):\n",
    "        return\n",
    "\n",
    "    if loc in is_visited:\n",
    "        return\n",
    "\n",
    "    if grid[current_row][current_col] != value:\n",
    "        return\n",
    "\n",
    "    region_row_col.add((current_row, current_col))\n",
    "    is_visited.add((current_row, current_col))\n",
    "\n",
    "    bfs_directions = [(-1, 0), (1, 0), (0, -1), (0, 1)]\n",
    "    for dr, dc in bfs_directions:\n",
    "        bfs(grid, is_visited, value, (current_row + dr, current_col + dc), region_row_col)"
   ]
  },
  {
   "cell_type": "code",
   "execution_count": 359,
   "metadata": {},
   "outputs": [],
   "source": [
    "def get_regions(grid: list) -> dict:\n",
    "    # dict of region name: list of set of region row & cols\n",
    "    regions = dict()\n",
    "    is_visited = set()\n",
    "    for i in range(len(grid)):\n",
    "        for j in range(len(grid[0])):\n",
    "            if (i, j) in is_visited:\n",
    "                continue\n",
    "\n",
    "            new_region_value = grid[i][j]\n",
    "            new_region_row_col = set()\n",
    "            new_region_row_col.add((i, j))\n",
    "\n",
    "            bfs_directions = [(-1, 0), (1, 0), (0, -1), (0, 1)]\n",
    "            for dr, dc in bfs_directions:\n",
    "                bfs(grid, is_visited, new_region_value, (i + dr, j + dc), new_region_row_col)\n",
    "\n",
    "            if new_region_value not in regions:\n",
    "                regions[new_region_value] = [new_region_row_col]\n",
    "                continue\n",
    "\n",
    "            regions[new_region_value].append(new_region_row_col)\n",
    "\n",
    "    return regions"
   ]
  },
  {
   "cell_type": "code",
   "execution_count": 360,
   "metadata": {},
   "outputs": [],
   "source": [
    "def get_area(s: set) -> int:\n",
    "    return len(s)"
   ]
  },
  {
   "cell_type": "code",
   "execution_count": 361,
   "metadata": {},
   "outputs": [],
   "source": [
    "def get_perimeter(s: set) -> int:\n",
    "    result = 4 * len(s)\n",
    "\n",
    "    for row_col in s:\n",
    "        row, col = row_col[0], row_col[1]\n",
    "        if (row - 1, col) in s:\n",
    "            result -= 1\n",
    "        if (row + 1, col) in s:\n",
    "            result -= 1\n",
    "        if (row, col - 1) in s:\n",
    "            result -= 1\n",
    "        if (row, col + 1) in s:\n",
    "            result -= 1\n",
    "\n",
    "    return result"
   ]
  },
  {
   "cell_type": "code",
   "execution_count": 362,
   "metadata": {},
   "outputs": [],
   "source": [
    "def solve_part_1():\n",
    "    grid = parse_input(is_test=False)\n",
    "    regions = get_regions(grid)\n",
    "    result = 0\n",
    "    for _, v in regions.items():\n",
    "        for s in v:\n",
    "            result += get_area(s) * get_perimeter(s)\n",
    "\n",
    "    return result"
   ]
  },
  {
   "cell_type": "code",
   "execution_count": 363,
   "metadata": {},
   "outputs": [
    {
     "data": {
      "text/plain": [
       "1533644"
      ]
     },
     "execution_count": 363,
     "metadata": {},
     "output_type": "execute_result"
    }
   ],
   "source": [
    "solve_part_1()"
   ]
  },
  {
   "cell_type": "markdown",
   "metadata": {},
   "source": [
    "# Part 2\n"
   ]
  },
  {
   "cell_type": "code",
   "execution_count": 364,
   "metadata": {},
   "outputs": [],
   "source": [
    "# if the plot of a region is at (0,0), all the possible corners are (-0.5, -0.5), (-0.5, 0.5), (0.5, 0.5), (0.5, -0.5)\n",
    "def get_plot_corners(s: set) -> list:\n",
    "    result = set()\n",
    "\n",
    "    for row_col in s:\n",
    "        corners = [(-0.5, -0.5), (-0.5, 0.5), (0.5, 0.5), (0.5, -0.5)]\n",
    "        for corner in corners:\n",
    "            result.add((row_col[0] + corner[0], row_col[1] + corner[1]))\n",
    "\n",
    "    return result"
   ]
  },
  {
   "cell_type": "code",
   "execution_count": 365,
   "metadata": {},
   "outputs": [],
   "source": [
    "# no. of sides == no. of corners\n",
    "# so instead of counting sides, we count corners instead\n",
    "def get_sides(s: set, plot_corners: set):\n",
    "    result = 0\n",
    "\n",
    "    for plot_corner_row, plot_corner_col in plot_corners:\n",
    "        to_top_right_plot = (plot_corner_row - 0.5, plot_corner_col + 0.5)  # Q1\n",
    "        to_top_left_plot = (plot_corner_row - 0.5, plot_corner_col - 0.5)  # Q2\n",
    "        to_bottom_left_plot = (plot_corner_row + 0.5, plot_corner_col - 0.5)  # Q3\n",
    "        to_bottom_right_plot = (plot_corner_row + 0.5, plot_corner_col + 0.5)  # Q4\n",
    "\n",
    "        is_in_region = [to_top_right_plot in s, to_top_left_plot in s, to_bottom_left_plot in s, to_bottom_right_plot in s]\n",
    "\n",
    "        if sum(is_in_region) == 3:\n",
    "            result += 1\n",
    "\n",
    "        if sum(is_in_region) == 2:\n",
    "            if is_in_region == [True, False, True, False] or is_in_region == [False, True, False, True]:\n",
    "                result += 2\n",
    "\n",
    "        if sum(is_in_region) == 1:\n",
    "            result += 1\n",
    "\n",
    "    return result"
   ]
  },
  {
   "cell_type": "code",
   "execution_count": 366,
   "metadata": {},
   "outputs": [],
   "source": [
    "def solve_part_2():\n",
    "    grid = parse_input(is_test=False)\n",
    "    regions = get_regions(grid)\n",
    "    result = 0\n",
    "    for _, v in regions.items():\n",
    "        for s in v:\n",
    "            plot_corners = get_plot_corners(s)\n",
    "            result += get_area(s) * get_sides(s, plot_corners)\n",
    "\n",
    "    return result"
   ]
  },
  {
   "cell_type": "code",
   "execution_count": 367,
   "metadata": {},
   "outputs": [
    {
     "data": {
      "text/plain": [
       "936718"
      ]
     },
     "execution_count": 367,
     "metadata": {},
     "output_type": "execute_result"
    }
   ],
   "source": [
    "solve_part_2()"
   ]
  }
 ],
 "metadata": {
  "kernelspec": {
   "display_name": "venv",
   "language": "python",
   "name": "python3"
  },
  "language_info": {
   "codemirror_mode": {
    "name": "ipython",
    "version": 3
   },
   "file_extension": ".py",
   "mimetype": "text/x-python",
   "name": "python",
   "nbconvert_exporter": "python",
   "pygments_lexer": "ipython3",
   "version": "3.11.10"
  }
 },
 "nbformat": 4,
 "nbformat_minor": 2
}
