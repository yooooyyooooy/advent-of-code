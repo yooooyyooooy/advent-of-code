{
 "cells": [
  {
   "cell_type": "code",
   "execution_count": 82,
   "metadata": {},
   "outputs": [],
   "source": [
    "def parse_input(is_test=True) -> list:\n",
    "    file_name = \"input-test.txt\" if is_test else \"input.txt\"\n",
    "    with open(file_name, \"r\") as file:\n",
    "        return [list(line.strip()) for line in file]"
   ]
  },
  {
   "cell_type": "code",
   "execution_count": 83,
   "metadata": {},
   "outputs": [],
   "source": [
    "def is_inbound(grid: list, r: int, c: int) -> bool:\n",
    "    row_length = len(grid)\n",
    "    col_length = len(grid[0])\n",
    "    return 0 <= r < row_length and 0 <= c < col_length"
   ]
  },
  {
   "cell_type": "code",
   "execution_count": 84,
   "metadata": {},
   "outputs": [],
   "source": [
    "def bfs(grid: list, is_visited: set, value: str, loc: tuple, region_row_col: set):\n",
    "    current_row, current_col = loc[0], loc[1]\n",
    "\n",
    "    if not is_inbound(grid, current_row, current_col):\n",
    "        return\n",
    "\n",
    "    if loc in is_visited:\n",
    "        return\n",
    "\n",
    "    if grid[current_row][current_col] != value:\n",
    "        return\n",
    "\n",
    "    region_row_col.add((current_row, current_col))\n",
    "    is_visited.add((current_row, current_col))\n",
    "\n",
    "    bfs(grid, is_visited, value, (current_row - 1, current_col), region_row_col)  # up\n",
    "    bfs(grid, is_visited, value, (current_row + 1, current_col), region_row_col)  # down\n",
    "    bfs(grid, is_visited, value, (current_row, current_col - 1), region_row_col)  # left\n",
    "    bfs(grid, is_visited, value, (current_row, current_col + 1), region_row_col)  # right"
   ]
  },
  {
   "cell_type": "code",
   "execution_count": 85,
   "metadata": {},
   "outputs": [],
   "source": [
    "def get_regions(grid: list) -> dict:\n",
    "    # dict of region name: list of set of region row & cols\n",
    "    regions = dict()\n",
    "    is_visited = set()\n",
    "    for i in range(len(grid)):\n",
    "        for j in range(len(grid[0])):\n",
    "            if (i, j) in is_visited:\n",
    "                continue\n",
    "\n",
    "            new_region_value = grid[i][j]\n",
    "            new_region_row_col = set()\n",
    "            new_region_row_col.add((i, j))\n",
    "\n",
    "            bfs(grid, is_visited, new_region_value, (i - 1, j), new_region_row_col)  # up\n",
    "            bfs(grid, is_visited, new_region_value, (i + 1, j), new_region_row_col)  # down\n",
    "            bfs(grid, is_visited, new_region_value, (i, j - 1), new_region_row_col)  # left\n",
    "            bfs(grid, is_visited, new_region_value, (i, j + 1), new_region_row_col)  # right\n",
    "\n",
    "            if new_region_value not in regions:\n",
    "                regions[new_region_value] = [new_region_row_col]\n",
    "                continue\n",
    "\n",
    "            regions[new_region_value].append(new_region_row_col)\n",
    "\n",
    "    return regions"
   ]
  },
  {
   "cell_type": "code",
   "execution_count": 86,
   "metadata": {},
   "outputs": [],
   "source": [
    "def get_area(s: set) -> int:\n",
    "    return len(s)"
   ]
  },
  {
   "cell_type": "code",
   "execution_count": 87,
   "metadata": {},
   "outputs": [],
   "source": [
    "def get_perimeter(s: set) -> int:\n",
    "    result = 4 * len(s)\n",
    "\n",
    "    for row_col in s:\n",
    "        row, col = row_col[0], row_col[1]\n",
    "        if (row - 1, col) in s:\n",
    "            result -= 1\n",
    "        if (row + 1, col) in s:\n",
    "            result -= 1\n",
    "        if (row, col - 1) in s:\n",
    "            result -= 1\n",
    "        if (row, col + 1) in s:\n",
    "            result -= 1\n",
    "\n",
    "    return result"
   ]
  },
  {
   "cell_type": "code",
   "execution_count": 88,
   "metadata": {},
   "outputs": [],
   "source": [
    "def solve_part_1():\n",
    "    grid = parse_input(is_test=False)\n",
    "    regions = get_regions(grid)\n",
    "    result = 0\n",
    "    for _, v in regions.items():\n",
    "        for s in v:\n",
    "            result += get_area(s) * get_perimeter(s)\n",
    "\n",
    "    return result"
   ]
  },
  {
   "cell_type": "code",
   "execution_count": 89,
   "metadata": {},
   "outputs": [
    {
     "data": {
      "text/plain": [
       "1533644"
      ]
     },
     "execution_count": 89,
     "metadata": {},
     "output_type": "execute_result"
    }
   ],
   "source": [
    "solve_part_1()"
   ]
  }
 ],
 "metadata": {
  "kernelspec": {
   "display_name": "venv",
   "language": "python",
   "name": "python3"
  },
  "language_info": {
   "codemirror_mode": {
    "name": "ipython",
    "version": 3
   },
   "file_extension": ".py",
   "mimetype": "text/x-python",
   "name": "python",
   "nbconvert_exporter": "python",
   "pygments_lexer": "ipython3",
   "version": "3.11.10"
  }
 },
 "nbformat": 4,
 "nbformat_minor": 2
}
