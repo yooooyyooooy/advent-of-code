{
 "cells": [
  {
   "cell_type": "code",
   "execution_count": 1,
   "metadata": {},
   "outputs": [],
   "source": [
    "import numpy as np"
   ]
  },
  {
   "cell_type": "code",
   "execution_count": 2,
   "metadata": {},
   "outputs": [],
   "source": [
    "def parse_input(is_test=True):\n",
    "    file_name = \"input-test.txt\" if is_test else \"input.txt\"\n",
    "\n",
    "    tmp = list()\n",
    "    with open(file_name, \"r\") as file:\n",
    "        for line in file:\n",
    "            tmp_line = line.strip().split()\n",
    "            if len(tmp_line) == 0:\n",
    "                continue\n",
    "\n",
    "            if tmp_line[0] == \"Button\":\n",
    "                tmp.append([int(tmp_line[-2][:-1].split(\"+\")[-1]), int(tmp_line[-1].split(\"+\")[-1])])\n",
    "            else:\n",
    "                tmp.append([int(tmp_line[-2][:-1].split(\"=\")[-1]), int(tmp_line[-1].split(\"=\")[-1])])\n",
    "\n",
    "    result = list([(tmp[i : i + 3]) for i in range(0, len(tmp), 3)])\n",
    "    return result"
   ]
  },
  {
   "cell_type": "code",
   "execution_count": 3,
   "metadata": {},
   "outputs": [],
   "source": [
    "def solve_linear_equation(linear_equation: list) -> np.ndarray:\n",
    "    a = np.array([linear_equation[i] for i in range(len(linear_equation) - 1)])\n",
    "    a_t = a.transpose()\n",
    "    b = np.array(linear_equation[-1])\n",
    "\n",
    "    result = np.array([np.int64(ans) for ans in np.linalg.solve(a_t, b).round()])\n",
    "\n",
    "    if np.allclose(np.dot(a_t, result), b):\n",
    "        return result\n",
    "    else:\n",
    "        return None"
   ]
  },
  {
   "cell_type": "code",
   "execution_count": 4,
   "metadata": {},
   "outputs": [],
   "source": [
    "def is_valid_button_pressed_limit(button_pressed: np.ndarray, limit: np.int64) -> bool:\n",
    "    for count in button_pressed:\n",
    "        if not (0 <= count < limit):\n",
    "            return False\n",
    "\n",
    "    return True"
   ]
  },
  {
   "cell_type": "code",
   "execution_count": 5,
   "metadata": {},
   "outputs": [],
   "source": [
    "def get_no_token_use(button_pressed: np.ndarray, token_usage: np.ndarray):\n",
    "    return np.vdot(button_pressed, token_usage)"
   ]
  },
  {
   "cell_type": "code",
   "execution_count": 6,
   "metadata": {},
   "outputs": [],
   "source": [
    "def solve_part_1():\n",
    "    inputs = parse_input(is_test=False)\n",
    "\n",
    "    result = np.int64(0)\n",
    "    for linear_equation in inputs:\n",
    "        button_pressed = solve_linear_equation(linear_equation)\n",
    "\n",
    "        if button_pressed is None:\n",
    "            continue\n",
    "\n",
    "        if not is_valid_button_pressed_limit(button_pressed, np.int64(100)):\n",
    "            continue\n",
    "\n",
    "        result += get_no_token_use(button_pressed, np.array([3, 1]))\n",
    "\n",
    "    return int(result)"
   ]
  },
  {
   "cell_type": "code",
   "execution_count": 7,
   "metadata": {},
   "outputs": [
    {
     "data": {
      "text/plain": [
       "36838"
      ]
     },
     "execution_count": 7,
     "metadata": {},
     "output_type": "execute_result"
    }
   ],
   "source": [
    "solve_part_1()"
   ]
  }
 ],
 "metadata": {
  "kernelspec": {
   "display_name": "venv",
   "language": "python",
   "name": "python3"
  },
  "language_info": {
   "codemirror_mode": {
    "name": "ipython",
    "version": 3
   },
   "file_extension": ".py",
   "mimetype": "text/x-python",
   "name": "python",
   "nbconvert_exporter": "python",
   "pygments_lexer": "ipython3",
   "version": "3.11.10"
  }
 },
 "nbformat": 4,
 "nbformat_minor": 2
}
