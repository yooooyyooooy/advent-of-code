{
 "cells": [
  {
   "cell_type": "code",
   "execution_count": 75,
   "metadata": {},
   "outputs": [],
   "source": [
    "import numpy as np"
   ]
  },
  {
   "cell_type": "code",
   "execution_count": 76,
   "metadata": {},
   "outputs": [],
   "source": [
    "def parse_input(is_test=True, is_part2=False):\n",
    "    file_name = \"input-test.txt\" if is_test else \"input.txt\"\n",
    "\n",
    "    tmp = list()\n",
    "    with open(file_name, \"r\") as file:\n",
    "        for line in file:\n",
    "            tmp_line = line.strip().split()\n",
    "            if len(tmp_line) == 0:\n",
    "                continue\n",
    "\n",
    "            if tmp_line[0] == \"Button\":\n",
    "                tmp.append([int(tmp_line[-2][:-1].split(\"+\")[-1]), int(tmp_line[-1].split(\"+\")[-1])])\n",
    "            else:\n",
    "                value_x = int(tmp_line[-2][:-1].split(\"=\")[-1])\n",
    "                value_y = int(tmp_line[-1].split(\"=\")[-1])\n",
    "                if is_part2:\n",
    "                    value_x += 10000000000000\n",
    "                    value_y += 10000000000000\n",
    "\n",
    "                tmp.append([value_x, value_y])\n",
    "\n",
    "    result = list([(tmp[i : i + 3]) for i in range(0, len(tmp), 3)])\n",
    "    return result"
   ]
  },
  {
   "cell_type": "code",
   "execution_count": 77,
   "metadata": {},
   "outputs": [],
   "source": [
    "def solve_linear_equation(linear_equation: list) -> np.ndarray:\n",
    "    a = np.array([linear_equation[i] for i in range(len(linear_equation) - 1)])\n",
    "    a_t = a.transpose()\n",
    "    b = np.array(linear_equation[-1])\n",
    "\n",
    "    result = np.array([int(ans) for ans in np.linalg.solve(a_t, b).round()])\n",
    "\n",
    "    if np.array_equal(np.dot(a_t, result), b):\n",
    "        return result\n",
    "    else:\n",
    "        return None"
   ]
  },
  {
   "cell_type": "code",
   "execution_count": 78,
   "metadata": {},
   "outputs": [],
   "source": [
    "def is_valid_button_pressed_limit(button_pressed: np.ndarray, limit: int) -> bool:\n",
    "    for count in button_pressed:\n",
    "        if not (0 <= count < limit):\n",
    "            return False\n",
    "\n",
    "    return True"
   ]
  },
  {
   "cell_type": "code",
   "execution_count": 79,
   "metadata": {},
   "outputs": [],
   "source": [
    "def get_number_token_used(button_pressed: np.ndarray, token_usage: np.ndarray):\n",
    "    return int(np.vdot(button_pressed, token_usage))"
   ]
  },
  {
   "cell_type": "code",
   "execution_count": 80,
   "metadata": {},
   "outputs": [],
   "source": [
    "def solve_part_1():\n",
    "    inputs = parse_input(is_test=False, is_part2=False)\n",
    "\n",
    "    result = 0\n",
    "    for linear_equation in inputs:\n",
    "        button_pressed = solve_linear_equation(linear_equation)\n",
    "\n",
    "        if button_pressed is None:\n",
    "            continue\n",
    "\n",
    "        if not is_valid_button_pressed_limit(button_pressed, 100):\n",
    "            continue\n",
    "\n",
    "        result += get_number_token_used(button_pressed, np.array([3, 1]))\n",
    "\n",
    "    return result"
   ]
  },
  {
   "cell_type": "code",
   "execution_count": 81,
   "metadata": {},
   "outputs": [
    {
     "data": {
      "text/plain": [
       "36838"
      ]
     },
     "execution_count": 81,
     "metadata": {},
     "output_type": "execute_result"
    }
   ],
   "source": [
    "solve_part_1()"
   ]
  },
  {
   "cell_type": "code",
   "execution_count": 82,
   "metadata": {},
   "outputs": [],
   "source": [
    "def solve_part_2():\n",
    "    inputs = parse_input(is_test=False, is_part2=True)\n",
    "\n",
    "    result = 0\n",
    "    for linear_equation in inputs:\n",
    "        button_pressed = solve_linear_equation(linear_equation)\n",
    "\n",
    "        if button_pressed is None:\n",
    "            continue\n",
    "\n",
    "        if not is_valid_button_pressed_limit(button_pressed, 1e14):\n",
    "            continue\n",
    "\n",
    "        result += get_number_token_used(button_pressed, np.array([3, 1]))\n",
    "\n",
    "    return result"
   ]
  },
  {
   "cell_type": "code",
   "execution_count": 83,
   "metadata": {},
   "outputs": [
    {
     "data": {
      "text/plain": [
       "83029436920891"
      ]
     },
     "execution_count": 83,
     "metadata": {},
     "output_type": "execute_result"
    }
   ],
   "source": [
    "solve_part_2()"
   ]
  }
 ],
 "metadata": {
  "kernelspec": {
   "display_name": "venv",
   "language": "python",
   "name": "python3"
  },
  "language_info": {
   "codemirror_mode": {
    "name": "ipython",
    "version": 3
   },
   "file_extension": ".py",
   "mimetype": "text/x-python",
   "name": "python",
   "nbconvert_exporter": "python",
   "pygments_lexer": "ipython3",
   "version": "3.11.10"
  }
 },
 "nbformat": 4,
 "nbformat_minor": 2
}
