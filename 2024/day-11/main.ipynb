{
 "cells": [
  {
   "cell_type": "code",
   "execution_count": 104,
   "metadata": {},
   "outputs": [],
   "source": [
    "def parse_input(is_test=True):\n",
    "    file_name = \"input-test.txt\" if is_test else \"input.txt\"\n",
    "    result = dict()\n",
    "    with open(file_name, \"r\") as file:\n",
    "        line = file.readline()\n",
    "        for num in line.strip().split():\n",
    "            if int(num) not in result:\n",
    "                result[int(num)] = 1\n",
    "                continue\n",
    "            result[int(num)] += 1\n",
    "    return result"
   ]
  },
  {
   "cell_type": "markdown",
   "metadata": {},
   "source": [
    "# Part 1 & 2\n"
   ]
  },
  {
   "cell_type": "code",
   "execution_count": 105,
   "metadata": {},
   "outputs": [],
   "source": [
    "def blink(num: int, computed: dict) -> list:\n",
    "    if num in computed:\n",
    "        return computed[num]\n",
    "\n",
    "    if num == 0:\n",
    "        computed[num] = [1]\n",
    "        return [1]\n",
    "\n",
    "    num_str = str(num)\n",
    "    if len(num_str) % 2 == 0:\n",
    "        mid = len(num_str) // 2\n",
    "        computed[num] = [int(num_str[:mid]), int(num_str[mid:])]\n",
    "        return [int(num_str[:mid]), int(num_str[mid:])]\n",
    "\n",
    "    computed[num] = [num * 2024]\n",
    "    return [num * 2024]"
   ]
  },
  {
   "cell_type": "code",
   "execution_count": 106,
   "metadata": {},
   "outputs": [],
   "source": [
    "def stones_count_after_blink(target_round: int) -> dict:\n",
    "    current_stones_count = parse_input(is_test=False)  # using dict (hashmap) for grouping same stones\n",
    "    current_round = 0\n",
    "    computed = dict()\n",
    "\n",
    "    while current_round < target_round:\n",
    "        new_stones_count = dict()\n",
    "\n",
    "        for old_stone in list(current_stones_count.keys()):\n",
    "            new_stones = blink(old_stone, computed)\n",
    "            for new_stone in new_stones:\n",
    "                if new_stone not in new_stones_count:\n",
    "                    new_stones_count[new_stone] = current_stones_count[old_stone]\n",
    "                    continue\n",
    "                new_stones_count[new_stone] += current_stones_count[old_stone]\n",
    "\n",
    "        current_stones_count = new_stones_count\n",
    "        current_round += 1\n",
    "\n",
    "    return current_stones_count"
   ]
  },
  {
   "cell_type": "code",
   "execution_count": 107,
   "metadata": {},
   "outputs": [],
   "source": [
    "def count_total_stones(stones_count: dict) -> int:\n",
    "    return sum([count for _, count in stones_count.items()])"
   ]
  },
  {
   "cell_type": "code",
   "execution_count": 108,
   "metadata": {},
   "outputs": [],
   "source": [
    "def solve():\n",
    "    stones_count_25 = stones_count_after_blink(25)\n",
    "    stones_count_75 = stones_count_after_blink(75)\n",
    "\n",
    "    count_total_stones_25 = count_total_stones(stones_count_25)\n",
    "    count_total_stones_75 = count_total_stones(stones_count_75)\n",
    "\n",
    "    print(f\"there are {count_total_stones_25} stones after blinking 25 times\")\n",
    "    print(f\"there are {count_total_stones_75} stones after blinking 75 times\")"
   ]
  },
  {
   "cell_type": "code",
   "execution_count": 109,
   "metadata": {},
   "outputs": [
    {
     "name": "stdout",
     "output_type": "stream",
     "text": [
      "there are 183248 stones after blinking 25 times\n",
      "there are 218811774248729 stones after blinking 75 times\n"
     ]
    }
   ],
   "source": [
    "solve()"
   ]
  }
 ],
 "metadata": {
  "kernelspec": {
   "display_name": "venv",
   "language": "python",
   "name": "python3"
  },
  "language_info": {
   "codemirror_mode": {
    "name": "ipython",
    "version": 3
   },
   "file_extension": ".py",
   "mimetype": "text/x-python",
   "name": "python",
   "nbconvert_exporter": "python",
   "pygments_lexer": "ipython3",
   "version": "3.11.10"
  }
 },
 "nbformat": 4,
 "nbformat_minor": 2
}
