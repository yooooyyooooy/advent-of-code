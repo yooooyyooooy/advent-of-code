{
 "cells": [
  {
   "cell_type": "code",
   "execution_count": 47,
   "metadata": {},
   "outputs": [],
   "source": [
    "def parse_input(is_test=True):\n",
    "    file_name = \"input-test.txt\" if is_test else \"input.txt\"\n",
    "    with open(file_name, \"r\") as file:\n",
    "        line = file.readline()\n",
    "        return [int(num) for num in line.strip().split()]"
   ]
  },
  {
   "cell_type": "code",
   "execution_count": 48,
   "metadata": {},
   "outputs": [
    {
     "data": {
      "text/plain": [
       "[125, 17]"
      ]
     },
     "execution_count": 48,
     "metadata": {},
     "output_type": "execute_result"
    }
   ],
   "source": [
    "parse_input()"
   ]
  },
  {
   "cell_type": "markdown",
   "metadata": {},
   "source": [
    "# Part 1\n"
   ]
  },
  {
   "cell_type": "code",
   "execution_count": 49,
   "metadata": {},
   "outputs": [],
   "source": [
    "def blink(num: int, computed: dict) -> list:\n",
    "    if num in computed:\n",
    "        return computed[num]\n",
    "\n",
    "    if num == 0:\n",
    "        computed[num] = [1]\n",
    "        return [1]\n",
    "\n",
    "    num_str = str(num)\n",
    "    if len(num_str) % 2 == 0:\n",
    "        mid = len(num_str) // 2\n",
    "        computed[num] = [int(num_str[:mid]), int(num_str[mid:])]\n",
    "        return [int(num_str[:mid]), int(num_str[mid:])]\n",
    "\n",
    "    computed[num] = [num * 2024]\n",
    "    return [num * 2024]"
   ]
  },
  {
   "cell_type": "code",
   "execution_count": 50,
   "metadata": {},
   "outputs": [],
   "source": [
    "def blinks(\n",
    "    before_first_blink_state: list,\n",
    "    target_round: int,\n",
    "):\n",
    "    current_result = before_first_blink_state\n",
    "    current_round = 0\n",
    "    computed = dict()\n",
    "\n",
    "    while current_round < target_round:\n",
    "        new_result = list()\n",
    "        for num in current_result:\n",
    "            new_result += blink(num, computed)\n",
    "\n",
    "        current_result = new_result\n",
    "        current_round += 1\n",
    "\n",
    "    return current_result"
   ]
  },
  {
   "cell_type": "code",
   "execution_count": 51,
   "metadata": {},
   "outputs": [],
   "source": [
    "def solve_part_1():\n",
    "    input = parse_input(is_test=False)\n",
    "    result = blinks(input, 25)\n",
    "\n",
    "    print(f\"there are {len(result)} stones after blinking 25 times\")"
   ]
  },
  {
   "cell_type": "code",
   "execution_count": 52,
   "metadata": {},
   "outputs": [
    {
     "ename": "KeyboardInterrupt",
     "evalue": "",
     "output_type": "error",
     "traceback": [
      "\u001b[0;31m---------------------------------------------------------------------------\u001b[0m",
      "\u001b[0;31mKeyboardInterrupt\u001b[0m                         Traceback (most recent call last)",
      "Cell \u001b[0;32mIn[52], line 1\u001b[0m\n\u001b[0;32m----> 1\u001b[0m \u001b[43msolve_part_1\u001b[49m\u001b[43m(\u001b[49m\u001b[43m)\u001b[49m\n",
      "Cell \u001b[0;32mIn[51], line 3\u001b[0m, in \u001b[0;36msolve_part_1\u001b[0;34m()\u001b[0m\n\u001b[1;32m      1\u001b[0m \u001b[38;5;28;01mdef\u001b[39;00m \u001b[38;5;21msolve_part_1\u001b[39m():\n\u001b[1;32m      2\u001b[0m     \u001b[38;5;28minput\u001b[39m \u001b[38;5;241m=\u001b[39m parse_input(is_test\u001b[38;5;241m=\u001b[39m\u001b[38;5;28;01mFalse\u001b[39;00m)\n\u001b[0;32m----> 3\u001b[0m     result \u001b[38;5;241m=\u001b[39m \u001b[43mblinks\u001b[49m\u001b[43m(\u001b[49m\u001b[38;5;28;43minput\u001b[39;49m\u001b[43m,\u001b[49m\u001b[43m \u001b[49m\u001b[38;5;241;43m75\u001b[39;49m\u001b[43m)\u001b[49m\n\u001b[1;32m      5\u001b[0m     \u001b[38;5;28mprint\u001b[39m(\u001b[38;5;124mf\u001b[39m\u001b[38;5;124m\"\u001b[39m\u001b[38;5;124mthere are \u001b[39m\u001b[38;5;132;01m{\u001b[39;00m\u001b[38;5;28mlen\u001b[39m(result)\u001b[38;5;132;01m}\u001b[39;00m\u001b[38;5;124m stones after blinking 25 times\u001b[39m\u001b[38;5;124m\"\u001b[39m)\n",
      "Cell \u001b[0;32mIn[50], line 12\u001b[0m, in \u001b[0;36mblinks\u001b[0;34m(before_first_blink_state, target_round)\u001b[0m\n\u001b[1;32m     10\u001b[0m new_result \u001b[38;5;241m=\u001b[39m \u001b[38;5;28mlist\u001b[39m()\n\u001b[1;32m     11\u001b[0m \u001b[38;5;28;01mfor\u001b[39;00m num \u001b[38;5;129;01min\u001b[39;00m current_result:\n\u001b[0;32m---> 12\u001b[0m     new_result \u001b[38;5;241m+\u001b[39m\u001b[38;5;241m=\u001b[39m blink(num, computed)\n\u001b[1;32m     14\u001b[0m current_result \u001b[38;5;241m=\u001b[39m new_result\n\u001b[1;32m     15\u001b[0m current_round \u001b[38;5;241m+\u001b[39m\u001b[38;5;241m=\u001b[39m \u001b[38;5;241m1\u001b[39m\n",
      "\u001b[0;31mKeyboardInterrupt\u001b[0m: "
     ]
    }
   ],
   "source": [
    "solve_part_1()"
   ]
  }
 ],
 "metadata": {
  "kernelspec": {
   "display_name": "venv",
   "language": "python",
   "name": "python3"
  },
  "language_info": {
   "codemirror_mode": {
    "name": "ipython",
    "version": 3
   },
   "file_extension": ".py",
   "mimetype": "text/x-python",
   "name": "python",
   "nbconvert_exporter": "python",
   "pygments_lexer": "ipython3",
   "version": "3.11.10"
  }
 },
 "nbformat": 4,
 "nbformat_minor": 2
}
