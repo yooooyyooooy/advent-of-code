{
 "cells": [
  {
   "cell_type": "code",
   "execution_count": 1,
   "metadata": {},
   "outputs": [],
   "source": [
    "def parse_input():\n",
    "    with open('./input.txt', 'r') as file:\n",
    "        lines = file.readlines()\n",
    "    \n",
    "    return [[int(value) for value in line.strip().split()] for line in lines]\n"
   ]
  },
  {
   "cell_type": "code",
   "execution_count": 2,
   "metadata": {},
   "outputs": [],
   "source": [
    "def is_monotonically_increasing(l: list[int]) -> bool:\n",
    "    for i in range(1, len(l)):\n",
    "        if l[i] <= l[i-1]:\n",
    "            return False\n",
    "    return True"
   ]
  },
  {
   "cell_type": "code",
   "execution_count": 3,
   "metadata": {},
   "outputs": [],
   "source": [
    "def is_monotonically_decreasing(l: list[int]) -> bool:\n",
    "    for i in range(1, len(l)):\n",
    "        if l[i] >= l[i-1]:\n",
    "            return False\n",
    "    return True"
   ]
  },
  {
   "cell_type": "code",
   "execution_count": 4,
   "metadata": {},
   "outputs": [],
   "source": [
    "def is_difference_within_one_and_three(l: list[int]) -> bool:\n",
    "    for i in range(1, len(l)):\n",
    "        if abs(l[i] - l[i-1]) < 1 or abs(l[i] - l[i-1]) > 3:\n",
    "            return False\n",
    "    return True"
   ]
  },
  {
   "cell_type": "code",
   "execution_count": 5,
   "metadata": {},
   "outputs": [],
   "source": [
    "def is_safe_report(l: list[int]) -> bool:\n",
    "    is_satisfied_condition_1  = is_monotonically_increasing(l) or is_monotonically_decreasing(l)\n",
    "    is_satisfied_condition_2 = is_difference_within_one_and_three(l)\n",
    "    return is_satisfied_condition_1 and is_satisfied_condition_2"
   ]
  },
  {
   "cell_type": "code",
   "execution_count": 6,
   "metadata": {},
   "outputs": [
    {
     "name": "stdout",
     "output_type": "stream",
     "text": [
      "part one safe reports count: 502\n"
     ]
    }
   ],
   "source": [
    "def solve_part_one() -> int:\n",
    "    input = parse_input()\n",
    "    safe_reports_count = 0\n",
    "    \n",
    "    for l in input:\n",
    "        if is_safe_report(l):\n",
    "            safe_reports_count += 1\n",
    "    \n",
    "    return safe_reports_count\n",
    "    \n",
    "\n",
    "print(f'part one safe reports count: {solve_part_one()}')"
   ]
  },
  {
   "cell_type": "code",
   "execution_count": 7,
   "metadata": {},
   "outputs": [
    {
     "name": "stdout",
     "output_type": "stream",
     "text": [
      "part two safe reports count: 544\n"
     ]
    }
   ],
   "source": [
    "def solve_part_two() -> int:\n",
    "    input = parse_input()\n",
    "    safe_reports_count = 0\n",
    "    \n",
    "    reports_with_levels_removed = dict()\n",
    "    for i in range(len(input)):\n",
    "        reports_with_levels_removed[str(i)] = list()\n",
    "        for j in range(len(input[i])):\n",
    "            tmp = input[i].copy()\n",
    "            tmp.pop(j)\n",
    "            reports_with_levels_removed[str(i)].append(tmp)\n",
    "    \n",
    "    for _, value in reports_with_levels_removed.items():\n",
    "        for v in value:\n",
    "            if is_safe_report(v):\n",
    "                safe_reports_count += 1\n",
    "                break\n",
    "    \n",
    "    return safe_reports_count\n",
    "    \n",
    "print(f'part two safe reports count: {solve_part_two()}')\n",
    "        "
   ]
  }
 ],
 "metadata": {
  "kernelspec": {
   "display_name": "venv",
   "language": "python",
   "name": "python3"
  },
  "language_info": {
   "codemirror_mode": {
    "name": "ipython",
    "version": 3
   },
   "file_extension": ".py",
   "mimetype": "text/x-python",
   "name": "python",
   "nbconvert_exporter": "python",
   "pygments_lexer": "ipython3",
   "version": "3.11.10"
  }
 },
 "nbformat": 4,
 "nbformat_minor": 2
}
