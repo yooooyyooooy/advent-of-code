{
 "cells": [
  {
   "cell_type": "code",
   "execution_count": 87,
   "metadata": {},
   "outputs": [],
   "source": [
    "def parse_input():\n",
    "    with open('input.txt', 'r') as file:\n",
    "        return [list(line.strip()) for line in file]"
   ]
  },
  {
   "cell_type": "code",
   "execution_count": null,
   "metadata": {},
   "outputs": [],
   "source": [
    "def join_string(l: list):\n",
    "    sep = ''\n",
    "    return sep.join(l)"
   ]
  },
  {
   "cell_type": "markdown",
   "metadata": {},
   "source": [
    "# Part 1"
   ]
  },
  {
   "cell_type": "code",
   "execution_count": 89,
   "metadata": {},
   "outputs": [],
   "source": [
    "# Ways to search -> SQUARE Grid\n",
    "# 1. horizontal\n",
    "#     a. left to right -> XMAS, SAMX\n",
    "# 2. vertical\n",
    "#     a. top to bottom -> XMAS, SAMX\n",
    "# 3. diagonal\n",
    "#     a. top-left to bottom-right -> XMAS, SMAX\n",
    "#     c. bottom-left to top-right -> XMAS, SMAX"
   ]
  },
  {
   "cell_type": "code",
   "execution_count": 90,
   "metadata": {},
   "outputs": [],
   "source": [
    "def search_horizontal(grid, targets, target_length):\n",
    "    no_rows = len(grid)\n",
    "    no_columns = len(grid[0])\n",
    "    \n",
    "    result = 0\n",
    "    for i in range(no_rows):\n",
    "        for j in range(0, no_columns-target_length+1):\n",
    "            if join_string(grid[i][j:j+target_length]) in targets:\n",
    "                result += 1\n",
    "    \n",
    "    return result"
   ]
  },
  {
   "cell_type": "code",
   "execution_count": 91,
   "metadata": {},
   "outputs": [],
   "source": [
    "def search_vertical(grid, targets, target_length):\n",
    "    no_rows = len(grid)\n",
    "    no_columns = len(grid[0])\n",
    "    \n",
    "    result = 0\n",
    "    for j in range(no_columns):\n",
    "        for i in range(0, no_rows-target_length+1):\n",
    "            if join_string([grid[i+k][j] for k in range(target_length)]) in targets: \n",
    "                result += 1\n",
    "    \n",
    "    return result"
   ]
  },
  {
   "cell_type": "code",
   "execution_count": 92,
   "metadata": {},
   "outputs": [],
   "source": [
    "def search_diagonal_topleft_to_bottomright(grid, targets, target_length):\n",
    "    no_rows = len(grid)\n",
    "    no_columns = len(grid[0])\n",
    "    \n",
    "    result = 0\n",
    "    for i in range(0,no_rows-target_length+1):\n",
    "        for j in range(0,no_columns-target_length+1):\n",
    "            if join_string(grid[i+k][j+k] for k in range(target_length)) in targets:\n",
    "                result += 1\n",
    "    \n",
    "    return result"
   ]
  },
  {
   "cell_type": "code",
   "execution_count": 93,
   "metadata": {},
   "outputs": [],
   "source": [
    "def search_diagonal_bottomleft_to_topright(grid, targets, target_length):\n",
    "    no_rows = len(grid)\n",
    "    no_columns = len(grid[0])\n",
    "    \n",
    "    result = 0\n",
    "    for i in range(target_length-1,no_rows):\n",
    "        for j in range(0,no_columns-target_length+1):\n",
    "            if join_string(grid[i-k][j+k] for k in range(target_length)) in targets:\n",
    "                result += 1\n",
    "    \n",
    "    return result"
   ]
  },
  {
   "cell_type": "code",
   "execution_count": 94,
   "metadata": {},
   "outputs": [
    {
     "name": "stdout",
     "output_type": "stream",
     "text": [
      "XMAS does appear 2573 times in the grid.\n"
     ]
    }
   ],
   "source": [
    "def solve_part_1():\n",
    "    target = 'XMAS'\n",
    "    reverse_target = target[::-1]\n",
    "    targets = [target, reverse_target]\n",
    "    target_length = len(target)\n",
    "    \n",
    "    grid = parse_input()\n",
    "    \n",
    "    search_horizontal_result = search_horizontal(grid, targets, target_length)\n",
    "    search_vertical_result = search_vertical(grid, targets, target_length)\n",
    "    search_diagonal_topleft_to_bottomright_result = search_diagonal_topleft_to_bottomright(grid, targets, target_length)\n",
    "    search_diagonal_bottomleft_to_topright_result = search_diagonal_bottomleft_to_topright(grid, targets, target_length)\n",
    "    \n",
    "    return search_horizontal_result + search_vertical_result + search_diagonal_topleft_to_bottomright_result + search_diagonal_bottomleft_to_topright_result\n",
    "\n",
    "print(f'XMAS does appear {solve_part_1()} times in the grid.')"
   ]
  },
  {
   "cell_type": "markdown",
   "metadata": {},
   "source": [
    "# Part 2"
   ]
  },
  {
   "cell_type": "code",
   "execution_count": 95,
   "metadata": {},
   "outputs": [],
   "source": [
    "def search_x_mas(grid, targets, target_length):\n",
    "    no_rows = len(grid)\n",
    "    no_columns = len(grid[0])\n",
    "    \n",
    "    result = 0\n",
    "    for i in range(1, no_rows-1):\n",
    "        for j in range(1, no_columns-1):\n",
    "            if join_string([grid[i-1][j-1], grid[i][j], grid[i+1][j+1]]) in targets and join_string([grid[i+1][j-1], grid[i][j], grid[i-1][j+1]]) in targets:\n",
    "                result += 1\n",
    "    \n",
    "    return result    "
   ]
  },
  {
   "cell_type": "code",
   "execution_count": 96,
   "metadata": {},
   "outputs": [
    {
     "name": "stdout",
     "output_type": "stream",
     "text": [
      "X-MAS does appear 1850 times in the grid.\n"
     ]
    }
   ],
   "source": [
    "def solve_part_2():\n",
    "    target = 'SAM'\n",
    "    reverse_target = target[::-1]\n",
    "    targets = [target, reverse_target]\n",
    "    target_length = len(target)\n",
    "    \n",
    "    grid = parse_input()\n",
    "    search_x_mas_result = search_x_mas(grid, targets, target_length)\n",
    "    \n",
    "    return search_x_mas_result\n",
    "\n",
    "print(f'X-MAS does appear {solve_part_2()} times in the grid.')"
   ]
  }
 ],
 "metadata": {
  "kernelspec": {
   "display_name": "venv",
   "language": "python",
   "name": "python3"
  },
  "language_info": {
   "codemirror_mode": {
    "name": "ipython",
    "version": 3
   },
   "file_extension": ".py",
   "mimetype": "text/x-python",
   "name": "python",
   "nbconvert_exporter": "python",
   "pygments_lexer": "ipython3",
   "version": "3.11.10"
  }
 },
 "nbformat": 4,
 "nbformat_minor": 2
}
