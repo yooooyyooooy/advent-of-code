{
 "cells": [
  {
   "cell_type": "code",
   "execution_count": 423,
   "metadata": {},
   "outputs": [],
   "source": [
    "def parse_initial_locations(is_test=True) -> bool:\n",
    "    file_name = \"input-test-1.txt\" if is_test else \"input-1.txt\"\n",
    "    with open(file_name, \"r\") as file:\n",
    "        return [list(line.strip()) for line in file]"
   ]
  },
  {
   "cell_type": "code",
   "execution_count": 424,
   "metadata": {},
   "outputs": [],
   "source": [
    "def parse_directions(is_test=True) -> list:\n",
    "    file_name = \"input-test-2.txt\" if is_test else \"input-2.txt\"\n",
    "    with open(file_name, \"r\") as file:\n",
    "        return list(\"\".join(line.strip() for line in file))"
   ]
  },
  {
   "cell_type": "code",
   "execution_count": 425,
   "metadata": {},
   "outputs": [],
   "source": [
    "def is_wall(cell: str) -> bool:\n",
    "    return cell == \"#\""
   ]
  },
  {
   "cell_type": "code",
   "execution_count": 426,
   "metadata": {},
   "outputs": [],
   "source": [
    "def is_box(cell: str) -> bool:\n",
    "    return cell == \"O\""
   ]
  },
  {
   "cell_type": "code",
   "execution_count": 427,
   "metadata": {},
   "outputs": [],
   "source": [
    "def is_vacant(cell: str) -> bool:\n",
    "    return cell == \".\""
   ]
  },
  {
   "cell_type": "code",
   "execution_count": 428,
   "metadata": {},
   "outputs": [],
   "source": [
    "def find_initial_robot_position(grid: list) -> tuple:\n",
    "    for i in range(len(grid)):\n",
    "        for j in range(len(grid[0])):\n",
    "            if grid[i][j] == \"@\":\n",
    "                return (i, j)\n",
    "\n",
    "    return (-1, -1)"
   ]
  },
  {
   "cell_type": "code",
   "execution_count": 429,
   "metadata": {},
   "outputs": [],
   "source": [
    "def get_dr_dc(direction: str) -> tuple:\n",
    "    if direction == \"^\":  # up\n",
    "        return (-1, 0)\n",
    "    elif direction == \">\":  # right\n",
    "        return (0, 1)\n",
    "    elif direction == \"v\":  # down\n",
    "        return (1, 0)\n",
    "    else:  # left (<)\n",
    "        return (0, -1)"
   ]
  },
  {
   "cell_type": "code",
   "execution_count": 430,
   "metadata": {},
   "outputs": [],
   "source": [
    "# return a new position of a robot\n",
    "def move(grid: list, robot_position: tuple, direction: str) -> tuple:\n",
    "    dr, dc = get_dr_dc(direction)\n",
    "    current_position = robot_position\n",
    "\n",
    "    while True:\n",
    "        new_position_row, new_position_col = current_position[0] + dr, current_position[1] + dc\n",
    "\n",
    "        if is_wall(grid[new_position_row][new_position_col]):\n",
    "            return robot_position\n",
    "\n",
    "        current_position = (new_position_row, new_position_col)\n",
    "\n",
    "        if is_vacant(grid[new_position_row][new_position_col]):\n",
    "            break\n",
    "\n",
    "    # swap in-place\n",
    "    while current_position != robot_position:\n",
    "        grid[current_position[0] - dr][current_position[1] - dc], grid[current_position[0]][current_position[1]] = (\n",
    "            grid[current_position[0]][current_position[1]],\n",
    "            grid[current_position[0] - dr][current_position[1] - dc],\n",
    "        )\n",
    "        current_position = (current_position[0] - dr, current_position[1] - dc)\n",
    "\n",
    "    return (robot_position[0] + dr, robot_position[1] + dc)"
   ]
  },
  {
   "cell_type": "code",
   "execution_count": 431,
   "metadata": {},
   "outputs": [],
   "source": [
    "def calculate_sum_gps_coordinates(grid: list):\n",
    "    result = 0\n",
    "    for i in range(len(grid)):\n",
    "        for j in range(len(grid[0])):\n",
    "            if is_box(grid[i][j]):\n",
    "                result += 100 * i + j\n",
    "\n",
    "    return result"
   ]
  },
  {
   "cell_type": "code",
   "execution_count": 432,
   "metadata": {},
   "outputs": [],
   "source": [
    "def solve_part_1(is_test=False):\n",
    "    grid = parse_initial_locations(is_test)\n",
    "    directions = parse_directions(is_test)\n",
    "    robot_position = find_initial_robot_position(grid)\n",
    "\n",
    "    for direction in directions:\n",
    "        robot_position = move(grid, robot_position, direction)\n",
    "\n",
    "    sum_gps_coordinates = calculate_sum_gps_coordinates(grid)\n",
    "    return sum_gps_coordinates"
   ]
  },
  {
   "cell_type": "code",
   "execution_count": 433,
   "metadata": {},
   "outputs": [
    {
     "name": "stdout",
     "output_type": "stream",
     "text": [
      "10092\n",
      "1463512\n"
     ]
    }
   ],
   "source": [
    "print(solve_part_1(is_test=True))\n",
    "print(solve_part_1(is_test=False))"
   ]
  }
 ],
 "metadata": {
  "kernelspec": {
   "display_name": "venv",
   "language": "python",
   "name": "python3"
  },
  "language_info": {
   "codemirror_mode": {
    "name": "ipython",
    "version": 3
   },
   "file_extension": ".py",
   "mimetype": "text/x-python",
   "name": "python",
   "nbconvert_exporter": "python",
   "pygments_lexer": "ipython3",
   "version": "3.11.10"
  }
 },
 "nbformat": 4,
 "nbformat_minor": 2
}
