{
 "cells": [
  {
   "cell_type": "code",
   "execution_count": 17,
   "metadata": {},
   "outputs": [],
   "source": [
    "def parse_input(is_test = True):\n",
    "    file_name = 'input-test.txt' if is_test else 'input.txt'\n",
    "    with open(file_name, 'r') as file:\n",
    "        line = file.readline()\n",
    "        return [int(c) for c in list(line.strip())]"
   ]
  },
  {
   "cell_type": "markdown",
   "metadata": {},
   "source": [
    "# Part 1"
   ]
  },
  {
   "cell_type": "code",
   "execution_count": 18,
   "metadata": {},
   "outputs": [
    {
     "data": {
      "text/plain": [
       "[2, 3, 3, 3, 1, 3, 3, 1, 2, 1, 4, 1, 4, 1, 3, 1, 4, 0, 2]"
      ]
     },
     "execution_count": 18,
     "metadata": {},
     "output_type": "execute_result"
    }
   ],
   "source": [
    "input = parse_input()\n",
    "input"
   ]
  },
  {
   "cell_type": "code",
   "execution_count": 19,
   "metadata": {},
   "outputs": [
    {
     "name": "stdout",
     "output_type": "stream",
     "text": [
      "XX...XXX...X...XXX.XX.XXXX.XXXX.XXX.XXXXXX\n",
      "{0: [0, 1], '.': [2, 3, 4, 8, 9, 10, 12, 13, 14, 18, 21, 26, 31, 35], 1: [5, 6, 7], 2: [11], 3: [15, 16, 17], 4: [19, 20], 5: [22, 23, 24, 25], 6: [27, 28, 29, 30], 7: [32, 33, 34], 8: [36, 37, 38, 39], 9: [40, 41]}\n"
     ]
    }
   ],
   "source": [
    "def generate_file_str_and_location(input: str):\n",
    "    file_block_annonation = 'X'\n",
    "    free_space_annonation = '.'\n",
    "    \n",
    "    result_str = ''\n",
    "    result_location = dict()\n",
    "    for i in range(len(input)):\n",
    "        size = input[i]\n",
    "        is_free_space = i % 2 != 0\n",
    "        file_id = i // 2\n",
    "        \n",
    "        # free space\n",
    "        if is_free_space:\n",
    "            if free_space_annonation not in result_location:\n",
    "                result_location[free_space_annonation] = [len(result_str) + j for j in range(size)]\n",
    "            else:\n",
    "                result_location[free_space_annonation] += [len(result_str) + j for j in range(size)]        \n",
    "                \n",
    "            result_str += free_space_annonation * size\n",
    "            continue\n",
    "        \n",
    "        # file block\n",
    "        result_location[file_id] = [len(result_str) + j for j in range(size)]\n",
    "        result_str += file_block_annonation * input[i]\n",
    "    \n",
    "    return result_str, result_location\n",
    "\n",
    "file_str, location = generate_file_str_and_location(input)\n",
    "print(file_str)\n",
    "print(location)"
   ]
  },
  {
   "cell_type": "code",
   "execution_count": 20,
   "metadata": {},
   "outputs": [],
   "source": [
    "# 00...111...2...333.44.5555.6666.777.888899\n",
    "# XX...XXX...X...XXX.XX.XXXX.XXXX.XXX.XXXXXX\n",
    "{\n",
    "    0: [0, 1],\n",
    "    \".\": [2, 3, 4, 8, 9, 10, 12, 13, 14, 18, 21, 26, 31, 35],\n",
    "    1: [5, 6, 7],\n",
    "    2: [11],\n",
    "    3: [15, 16, 17],\n",
    "    4: [19, 20],\n",
    "    5: [22, 23, 24, 25],\n",
    "    6: [27, 28, 29, 30],\n",
    "    7: [32, 33, 34],\n",
    "    8: [36, 37, 38, 39],\n",
    "    9: [40, 41],\n",
    "}"
   ]
  }
 ],
 "metadata": {
  "kernelspec": {
   "display_name": "venv",
   "language": "python",
   "name": "python3"
  },
  "language_info": {
   "codemirror_mode": {
    "name": "ipython",
    "version": 3
   },
   "file_extension": ".py",
   "mimetype": "text/x-python",
   "name": "python",
   "nbconvert_exporter": "python",
   "pygments_lexer": "ipython3",
   "version": "3.11.10"
  }
 },
 "nbformat": 4,
 "nbformat_minor": 2
}
