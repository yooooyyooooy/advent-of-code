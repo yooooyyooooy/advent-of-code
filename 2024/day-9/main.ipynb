{
 "cells": [
  {
   "cell_type": "code",
   "execution_count": 3,
   "metadata": {},
   "outputs": [],
   "source": [
    "def parse_input(is_test=True):\n",
    "    file_name = \"input-test.txt\" if is_test else \"input.txt\"\n",
    "    with open(file_name, \"r\") as file:\n",
    "        line = file.readline()\n",
    "        return [int(c) for c in list(line.strip())]"
   ]
  },
  {
   "cell_type": "markdown",
   "metadata": {},
   "source": [
    "# Part 1\n"
   ]
  },
  {
   "cell_type": "code",
   "execution_count": 4,
   "metadata": {},
   "outputs": [],
   "source": [
    "def generate_index_value_mapping(input: str) -> dict:\n",
    "    free_space_annonation = \".\"\n",
    "\n",
    "    result = dict()\n",
    "    current_index = -1\n",
    "    for i in range(len(input)):\n",
    "        size = input[i]\n",
    "        is_free_space = i % 2 != 0\n",
    "        file_id = i // 2\n",
    "        for _ in range(size):\n",
    "            result[current_index + 1] = free_space_annonation if is_free_space else file_id\n",
    "            current_index += 1\n",
    "\n",
    "    return result"
   ]
  },
  {
   "cell_type": "code",
   "execution_count": 5,
   "metadata": {},
   "outputs": [],
   "source": [
    "def find_first_free_space_key(index_value_mapping: dict) -> int:\n",
    "    sorted_keys = sorted(list(index_value_mapping.keys()))\n",
    "    for key in sorted_keys:\n",
    "        if index_value_mapping[key] == \".\":\n",
    "            return key\n",
    "\n",
    "    return sorted_keys[-1] + 1"
   ]
  },
  {
   "cell_type": "code",
   "execution_count": 6,
   "metadata": {},
   "outputs": [],
   "source": [
    "def find_last_file_block_key(index_value_mapping: dict) -> int:\n",
    "    reverse_sorted_keys = sorted(list(index_value_mapping.keys()))[::-1]\n",
    "    for key in reverse_sorted_keys:\n",
    "        if index_value_mapping[key] != \".\":\n",
    "            return key\n",
    "\n",
    "    return reverse_sorted_keys[0] - 1"
   ]
  },
  {
   "cell_type": "code",
   "execution_count": 7,
   "metadata": {},
   "outputs": [],
   "source": [
    "# sliding windows with 2 pointers\n",
    "def file_compact(index_value_mapping: dict) -> None:\n",
    "    left = find_first_free_space_key(index_value_mapping)\n",
    "    right = find_last_file_block_key(index_value_mapping)\n",
    "    while left < right:\n",
    "        # left is . and right is X\n",
    "        if index_value_mapping[left] == \".\" and index_value_mapping[right] != \".\":\n",
    "            index_value_mapping[left], index_value_mapping[right] = (\n",
    "                index_value_mapping[right],\n",
    "                index_value_mapping[left],\n",
    "            )\n",
    "            left += 1\n",
    "            right -= 1\n",
    "        # left is X and right is X\n",
    "        elif index_value_mapping[left] != \".\" and index_value_mapping[right]:\n",
    "            left += 1\n",
    "        # left is . and right is .\n",
    "        elif index_value_mapping[left] == \".\" and index_value_mapping[right] == \".\":\n",
    "            right -= 1\n",
    "        # left is X and right is .\n",
    "        else:\n",
    "            left += 1\n",
    "            right -= 1"
   ]
  },
  {
   "cell_type": "code",
   "execution_count": 8,
   "metadata": {},
   "outputs": [],
   "source": [
    "def check_sum(index_value_mapping: dict) -> int:\n",
    "    result = 0\n",
    "    for key, value in index_value_mapping.items():\n",
    "        if value == \".\":\n",
    "            result += 0\n",
    "            continue\n",
    "        result += key * value\n",
    "\n",
    "    return result"
   ]
  },
  {
   "cell_type": "code",
   "execution_count": 9,
   "metadata": {},
   "outputs": [],
   "source": [
    "def solve_part_1():\n",
    "    input = parse_input(is_test=False)\n",
    "    index_value_mapping = generate_index_value_mapping(input)\n",
    "    file_compact(index_value_mapping)\n",
    "    result = check_sum(index_value_mapping)\n",
    "\n",
    "    print(f\"filesystem checksum for part 1 is {result}\")"
   ]
  },
  {
   "cell_type": "code",
   "execution_count": 10,
   "metadata": {},
   "outputs": [
    {
     "name": "stdout",
     "output_type": "stream",
     "text": [
      "filesystem checksum for part 1 is 6356833654075\n"
     ]
    }
   ],
   "source": [
    "solve_part_1()"
   ]
  },
  {
   "cell_type": "markdown",
   "metadata": {},
   "source": [
    "# Part 2\n"
   ]
  },
  {
   "cell_type": "code",
   "execution_count": 11,
   "metadata": {},
   "outputs": [],
   "source": [
    "def generate_file_blocks_and_free_spaces_mapping(input: str) -> dict:\n",
    "    result_file_blocks = dict()\n",
    "    result_free_spaces = list()\n",
    "    current_index = 0\n",
    "    for i in range(len(input)):\n",
    "        size = input[i]\n",
    "        if size == 0:\n",
    "            continue\n",
    "\n",
    "        is_free_space = i % 2 != 0\n",
    "        file_id = i // 2\n",
    "\n",
    "        # free spaces\n",
    "        if is_free_space:\n",
    "            free_space_indexes = [current_index + j for j in range(size)]\n",
    "            result_free_spaces.append(free_space_indexes)\n",
    "            current_index += size\n",
    "            continue\n",
    "\n",
    "        # file blocks\n",
    "        file_block_indexes = [current_index + j for j in range(size)]\n",
    "        result_file_blocks[file_id] = file_block_indexes\n",
    "        current_index += size\n",
    "\n",
    "    return result_file_blocks, result_free_spaces"
   ]
  },
  {
   "cell_type": "code",
   "execution_count": 12,
   "metadata": {},
   "outputs": [],
   "source": [
    "def rearrange_file(file_blocks: dict, free_spaces: list) -> None:\n",
    "    reverse_file_blocks_keys = list(file_blocks.keys())[::-1]\n",
    "\n",
    "    for key in reverse_file_blocks_keys:\n",
    "        len_free_spaces_needed = len(file_blocks[key])\n",
    "        for i in range(len(free_spaces)):\n",
    "            len_free_spaces_available = len(free_spaces[i])\n",
    "            if len_free_spaces_available >= len_free_spaces_needed and max(free_spaces[i]) < min(file_blocks[key]):\n",
    "                file_blocks[key] = free_spaces[i][:len_free_spaces_needed]\n",
    "                free_spaces[i] = free_spaces[i][len_free_spaces_needed:]\n",
    "                break"
   ]
  },
  {
   "cell_type": "code",
   "execution_count": 13,
   "metadata": {},
   "outputs": [],
   "source": [
    "def check_sum_2(file_blocks: dict):\n",
    "    result = 0\n",
    "    for key, value in file_blocks.items():\n",
    "        result += key * sum(value)\n",
    "\n",
    "    return result"
   ]
  },
  {
   "cell_type": "code",
   "execution_count": 14,
   "metadata": {},
   "outputs": [
    {
     "name": "stdout",
     "output_type": "stream",
     "text": [
      "filesystem checksum for part 2 is 6389911791746\n"
     ]
    }
   ],
   "source": [
    "def solve_part_2():\n",
    "    input = parse_input(is_test=False)\n",
    "    file_blocks, free_spaces = generate_file_blocks_and_free_spaces_mapping(input)\n",
    "    rearrange_file(file_blocks, free_spaces)\n",
    "    result = check_sum_2(file_blocks)\n",
    "\n",
    "    print(f\"filesystem checksum for part 2 is {result}\")\n",
    "\n",
    "\n",
    "solve_part_2()"
   ]
  }
 ],
 "metadata": {
  "kernelspec": {
   "display_name": "venv",
   "language": "python",
   "name": "python3"
  },
  "language_info": {
   "codemirror_mode": {
    "name": "ipython",
    "version": 3
   },
   "file_extension": ".py",
   "mimetype": "text/x-python",
   "name": "python",
   "nbconvert_exporter": "python",
   "pygments_lexer": "ipython3",
   "version": "3.11.10"
  }
 },
 "nbformat": 4,
 "nbformat_minor": 2
}
