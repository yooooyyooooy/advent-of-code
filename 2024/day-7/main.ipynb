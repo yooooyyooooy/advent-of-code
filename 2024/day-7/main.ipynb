{
 "cells": [
  {
   "cell_type": "code",
   "execution_count": 361,
   "metadata": {},
   "outputs": [],
   "source": [
    "from numpy import uint64\n",
    "\n",
    "\n",
    "def parse_input() -> dict:\n",
    "    with open('./input.txt', 'r') as file:\n",
    "        result = list()\n",
    "        for line in file:\n",
    "            target, num_combination_str = line.strip().split(': ')\n",
    "            result.append((uint64(target), [uint64(num) for num in num_combination_str.split()]))\n",
    "        return result"
   ]
  },
  {
   "cell_type": "markdown",
   "metadata": {},
   "source": [
    "# Part 1"
   ]
  },
  {
   "cell_type": "code",
   "execution_count": 362,
   "metadata": {},
   "outputs": [],
   "source": [
    "def check_is_possible(target: uint64, current_result: uint64, num_combination: list) -> bool:\n",
    "    # base case:\n",
    "    if len(num_combination) == 0:\n",
    "        return target == current_result\n",
    "    \n",
    "    # recursion case\n",
    "    is_possible_with_addition = check_is_possible(target, current_result + num_combination[0], num_combination[1:])\n",
    "    is_possible_with_multiplication = check_is_possible(target, current_result * num_combination[0], num_combination[1:])   \n",
    "    \n",
    "    return is_possible_with_addition or is_possible_with_multiplication"
   ]
  },
  {
   "cell_type": "code",
   "execution_count": 363,
   "metadata": {},
   "outputs": [],
   "source": [
    "def solve_part_1():\n",
    "    inputs = parse_input()\n",
    "    \n",
    "    result = uint64(0)\n",
    "    for input in inputs:\n",
    "        target = input[0]\n",
    "        num_combination = input[1]\n",
    "        \n",
    "        if check_is_possible(target, num_combination[0], num_combination[1:]):\n",
    "            result += target\n",
    "            \n",
    "    print(f'the total calibration result for part 1 is {result}')"
   ]
  },
  {
   "cell_type": "code",
   "execution_count": 364,
   "metadata": {},
   "outputs": [
    {
     "name": "stdout",
     "output_type": "stream",
     "text": [
      "the total calibration result for part 1 is 1038838357795\n"
     ]
    }
   ],
   "source": [
    "solve_part_1()"
   ]
  },
  {
   "cell_type": "markdown",
   "metadata": {},
   "source": [
    "# Part 2"
   ]
  },
  {
   "cell_type": "code",
   "execution_count": 365,
   "metadata": {},
   "outputs": [],
   "source": [
    "def check_is_possible_with_concatenation(target: uint64, current_result: uint64, num_combination: list) -> bool:\n",
    "    # base case:\n",
    "    if len(num_combination) == 0:\n",
    "        return target == current_result\n",
    "    \n",
    "    # recursion case\n",
    "    is_possible_with_addition = check_is_possible_with_concatenation(target, current_result + num_combination[0], num_combination[1:])\n",
    "    is_possible_with_multiplication = check_is_possible_with_concatenation(target, current_result * num_combination[0], num_combination[1:])   \n",
    "    is_possible_with_concatenation = check_is_possible_with_concatenation(target, uint64(f'{current_result}{num_combination[0]}'), num_combination[1:])\n",
    "    \n",
    "    return is_possible_with_addition or is_possible_with_multiplication or is_possible_with_concatenation"
   ]
  },
  {
   "cell_type": "code",
   "execution_count": 366,
   "metadata": {},
   "outputs": [],
   "source": [
    "def solve_part_2():\n",
    "    inputs = parse_input()\n",
    "    \n",
    "    result = uint64(0)\n",
    "    for input in inputs:\n",
    "        target = input[0]\n",
    "        num_combination = input[1]\n",
    "        \n",
    "        if check_is_possible_with_concatenation(target, num_combination[0], num_combination[1:]):\n",
    "            result += target\n",
    "            \n",
    "    print(f'the total calibration result for part 2 is {result}')"
   ]
  },
  {
   "cell_type": "code",
   "execution_count": 367,
   "metadata": {},
   "outputs": [
    {
     "name": "stdout",
     "output_type": "stream",
     "text": [
      "the total calibration result for part 2 is 254136560217241\n"
     ]
    }
   ],
   "source": [
    "solve_part_2()"
   ]
  }
 ],
 "metadata": {
  "kernelspec": {
   "display_name": "Python 3",
   "language": "python",
   "name": "python3"
  },
  "language_info": {
   "codemirror_mode": {
    "name": "ipython",
    "version": 3
   },
   "file_extension": ".py",
   "mimetype": "text/x-python",
   "name": "python",
   "nbconvert_exporter": "python",
   "pygments_lexer": "ipython3",
   "version": "3.11.10"
  }
 },
 "nbformat": 4,
 "nbformat_minor": 2
}
