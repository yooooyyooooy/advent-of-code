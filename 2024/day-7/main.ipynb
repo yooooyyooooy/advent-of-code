{
 "cells": [
  {
   "cell_type": "code",
   "execution_count": 351,
   "metadata": {},
   "outputs": [],
   "source": [
    "from numpy import uint64\n",
    "\n",
    "\n",
    "def parse_input() -> dict:\n",
    "    with open('./input.txt', 'r') as file:\n",
    "        result = list()\n",
    "        for line in file:\n",
    "            target, num_combination_str = line.strip().split(': ')\n",
    "            result.append((uint64(target), [uint64(num) for num in num_combination_str.split()]))\n",
    "        return result"
   ]
  },
  {
   "cell_type": "markdown",
   "metadata": {},
   "source": [
    "# Part 1"
   ]
  },
  {
   "cell_type": "code",
   "execution_count": 352,
   "metadata": {},
   "outputs": [],
   "source": [
    "# recursion\n",
    "def check_is_possible(target: uint64, current_result: uint64, num_combination: list) -> bool:\n",
    "    # base case:\n",
    "    if len(num_combination) == 0:\n",
    "        return target == current_result\n",
    "    \n",
    "    # recursion case:\n",
    "    return check_is_possible(target, current_result + num_combination[0], num_combination[1:]) or check_is_possible(target, current_result * num_combination[0], num_combination[1:])"
   ]
  },
  {
   "cell_type": "code",
   "execution_count": 353,
   "metadata": {},
   "outputs": [],
   "source": [
    "def solve_part_1():\n",
    "    inputs = parse_input()\n",
    "    \n",
    "    result = uint64(0) \n",
    "    for input in inputs:\n",
    "        target = input[0]\n",
    "        num_combination = input[1]\n",
    "        \n",
    "        if check_is_possible(target, num_combination[0], num_combination[1:]):\n",
    "            result += target\n",
    "            \n",
    "    print(f'the total calibration result is {result}')"
   ]
  },
  {
   "cell_type": "code",
   "execution_count": 354,
   "metadata": {},
   "outputs": [
    {
     "name": "stdout",
     "output_type": "stream",
     "text": [
      "the total calibration result is 1038838357795\n"
     ]
    }
   ],
   "source": [
    "solve_part_1()"
   ]
  }
 ],
 "metadata": {
  "kernelspec": {
   "display_name": "Python 3",
   "language": "python",
   "name": "python3"
  },
  "language_info": {
   "codemirror_mode": {
    "name": "ipython",
    "version": 3
   },
   "file_extension": ".py",
   "mimetype": "text/x-python",
   "name": "python",
   "nbconvert_exporter": "python",
   "pygments_lexer": "ipython3",
   "version": "3.11.10"
  }
 },
 "nbformat": 4,
 "nbformat_minor": 2
}
