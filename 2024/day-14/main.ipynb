{
 "cells": [
  {
   "cell_type": "code",
   "execution_count": 89,
   "metadata": {},
   "outputs": [],
   "source": [
    "def parse_input(is_test=True):\n",
    "    file_name = \"input-test.txt\" if is_test else \"input.txt\"\n",
    "    with open(file_name, \"r\") as file:\n",
    "        result = list()\n",
    "        for line in file:\n",
    "            tmp = line.strip().split()\n",
    "            initial_pos = tuple(int(num) for num in tmp[0].split(\"=\")[1].split(\",\")[::-1])\n",
    "            d = tuple(int(num) for num in tmp[1].split(\"=\")[1].split(\",\")[::-1])\n",
    "            result.append([initial_pos, d])\n",
    "\n",
    "        return result"
   ]
  },
  {
   "cell_type": "code",
   "execution_count": 90,
   "metadata": {},
   "outputs": [],
   "source": [
    "def get_grid_dim(is_test=True):\n",
    "    height = 7 if is_test else 103\n",
    "    width = 11 if is_test else 101\n",
    "    return (height, width)"
   ]
  },
  {
   "cell_type": "code",
   "execution_count": 91,
   "metadata": {},
   "outputs": [],
   "source": [
    "def teleport(grid_dim: tuple, initial_pos: tuple, d: tuple, duration: int) -> tuple:\n",
    "    grid_row_len, grid_col_len = grid_dim\n",
    "    current_duration = 0\n",
    "    current_pos = initial_pos\n",
    "    while current_duration < duration:\n",
    "        new_pos = ((current_pos[0] + d[0]) % grid_row_len, (current_pos[1] + d[1]) % grid_col_len)\n",
    "        current_duration += 1\n",
    "        current_pos = new_pos\n",
    "\n",
    "    return current_pos"
   ]
  },
  {
   "cell_type": "code",
   "execution_count": 92,
   "metadata": {},
   "outputs": [],
   "source": [
    "def get_mid_row_col(grid_dim: tuple) -> tuple:\n",
    "    return (grid_dim[0] // 2, grid_dim[1] // 2)"
   ]
  },
  {
   "cell_type": "code",
   "execution_count": 93,
   "metadata": {},
   "outputs": [],
   "source": [
    "def calculate_safety_factor(robots_count: dict, grid_dim: tuple) -> int:\n",
    "    mid_row_col = get_mid_row_col(grid_dim)\n",
    "    mid_row, mid_col = mid_row_col\n",
    "    grid_row_length, grid_col_length = grid_dim\n",
    "\n",
    "    # Q1\n",
    "    q1_robots_count = 0\n",
    "    for i1 in range(0, mid_row):\n",
    "        for j1 in range(mid_col + 1, grid_col_length):\n",
    "            if (i1, j1) in robots_count:\n",
    "                q1_robots_count += robots_count[(i1, j1)]\n",
    "\n",
    "    # Q2\n",
    "    q2_robots_count = 0\n",
    "    for i2 in range(0, mid_row):\n",
    "        for j2 in range(0, mid_col):\n",
    "            if (i2, j2) in robots_count:\n",
    "                q2_robots_count += robots_count[(i2, j2)]\n",
    "\n",
    "    # Q3\n",
    "    q3_robots_count = 0\n",
    "    for i3 in range(mid_row + 1, grid_row_length):\n",
    "        for j3 in range(0, mid_col):\n",
    "            if (i3, j3) in robots_count:\n",
    "                q3_robots_count += robots_count[(i3, j3)]\n",
    "\n",
    "    # Q4\n",
    "    q4_robots_count = 0\n",
    "    for i4 in range(mid_row + 1, grid_row_length):\n",
    "        for j4 in range(mid_col + 1, grid_col_length):\n",
    "            if (i4, j4) in robots_count:\n",
    "                q4_robots_count += robots_count[(i4, j4)]\n",
    "\n",
    "    return q1_robots_count * q2_robots_count * q3_robots_count * q4_robots_count"
   ]
  },
  {
   "cell_type": "code",
   "execution_count": 94,
   "metadata": {},
   "outputs": [],
   "source": [
    "def solve_part_1():\n",
    "    inputs = parse_input(is_test=False)\n",
    "    grid_dim = get_grid_dim(is_test=False)\n",
    "    duration = 100\n",
    "\n",
    "    robots_count = dict()\n",
    "    for initial_pos, d in inputs:\n",
    "        current_pos = teleport(grid_dim, initial_pos, d, duration)\n",
    "        if current_pos not in robots_count:\n",
    "            robots_count[current_pos] = 1\n",
    "        else:\n",
    "            robots_count[current_pos] += 1\n",
    "\n",
    "    result = calculate_safety_factor(robots_count, grid_dim)\n",
    "    return result"
   ]
  },
  {
   "cell_type": "code",
   "execution_count": 95,
   "metadata": {},
   "outputs": [
    {
     "data": {
      "text/plain": [
       "222062148"
      ]
     },
     "execution_count": 95,
     "metadata": {},
     "output_type": "execute_result"
    }
   ],
   "source": [
    "solve_part_1()"
   ]
  }
 ],
 "metadata": {
  "kernelspec": {
   "display_name": "venv",
   "language": "python",
   "name": "python3"
  },
  "language_info": {
   "codemirror_mode": {
    "name": "ipython",
    "version": 3
   },
   "file_extension": ".py",
   "mimetype": "text/x-python",
   "name": "python",
   "nbconvert_exporter": "python",
   "pygments_lexer": "ipython3",
   "version": "3.11.10"
  }
 },
 "nbformat": 4,
 "nbformat_minor": 2
}
