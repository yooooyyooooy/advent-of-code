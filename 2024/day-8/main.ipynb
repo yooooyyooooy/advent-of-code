{
 "cells": [
  {
   "cell_type": "code",
   "execution_count": 94,
   "metadata": {},
   "outputs": [],
   "source": [
    "def parse_input() -> list:\n",
    "    with open('input.txt', 'r') as file:\n",
    "        return [list(line.strip()) for line in file]"
   ]
  },
  {
   "cell_type": "markdown",
   "metadata": {},
   "source": [
    "# Part 1"
   ]
  },
  {
   "cell_type": "code",
   "execution_count": 95,
   "metadata": {},
   "outputs": [],
   "source": [
    "def find_antenna_coordinates(grid: list) -> dict:\n",
    "    row_length = len(grid)\n",
    "    col_length = len(grid[0])\n",
    "    \n",
    "    result = dict()\n",
    "    for i in range(row_length):\n",
    "        for j in range(col_length):\n",
    "            if grid[i][j] != '.':\n",
    "                antenna = grid[i][j]\n",
    "                if antenna not in result:\n",
    "                    result[antenna] = [(i,j)]\n",
    "                else:\n",
    "                    result[antenna].append((i,j))\n",
    "    \n",
    "    return result"
   ]
  },
  {
   "cell_type": "code",
   "execution_count": 96,
   "metadata": {},
   "outputs": [],
   "source": [
    "def generate_antenna_combinations(antenna_coordinates: dict) -> dict:\n",
    "    result = dict()\n",
    "    \n",
    "    for key, value in antenna_coordinates.items():\n",
    "        combination = list()\n",
    "        for i in range(len(value)-1):\n",
    "            for j in range(i+1, len(value)):\n",
    "                combination.append((value[i],value[j]))\n",
    "        result[key] = combination\n",
    "        \n",
    "    return result"
   ]
  },
  {
   "cell_type": "code",
   "execution_count": 97,
   "metadata": {},
   "outputs": [],
   "source": [
    "def check_is_inbound(grid: list, r: int, c: int) -> bool:\n",
    "    row_length = len(grid)\n",
    "    col_length = len(grid[0])\n",
    "    \n",
    "    return 0 <= r < row_length and 0 <= c < col_length"
   ]
  },
  {
   "cell_type": "code",
   "execution_count": 98,
   "metadata": {},
   "outputs": [],
   "source": [
    "def count_antinodes(grid: list, antenna_combinations: dict) -> int:\n",
    "    antinodes = set()\n",
    "    \n",
    "    for _, pairs in antenna_combinations.items():\n",
    "        for pair in pairs:\n",
    "            first, second = pair[0], pair[1]\n",
    "            first_r, first_c = first[0], first[1]\n",
    "            second_r, second_c = second[0], second[1]\n",
    "            \n",
    "            d1_r = second_r - first_r\n",
    "            d1_c = second_c - first_c\n",
    "            d2_r = -d1_r\n",
    "            d2_c = -d1_c\n",
    "            \n",
    "            first_antinode_r = first_r + (2*d1_r)\n",
    "            first_antinode_c = first_c + (2*d1_c)\n",
    "            second_antinode_r = second_r + (2*d2_r)\n",
    "            second_antinode_c = second_c + (2*d2_c)\n",
    "\n",
    "            if check_is_inbound(grid, first_antinode_r, first_antinode_c):\n",
    "                antinodes.add((first_antinode_r, first_antinode_c))\n",
    "            if check_is_inbound(grid, second_antinode_r, second_antinode_c):\n",
    "                antinodes.add((second_antinode_r, second_antinode_c))\n",
    "    \n",
    "    return len(antinodes)\n"
   ]
  },
  {
   "cell_type": "code",
   "execution_count": 99,
   "metadata": {},
   "outputs": [],
   "source": [
    "def solve_part_1():\n",
    "    grid = parse_input()\n",
    "    antenna_coordinates = find_antenna_coordinates(grid)\n",
    "    antenna_combinations = generate_antenna_combinations(antenna_coordinates)\n",
    "    result = count_antinodes(grid, antenna_combinations)\n",
    "    \n",
    "    print(f'unique antinode locations is {result}')"
   ]
  },
  {
   "cell_type": "code",
   "execution_count": 100,
   "metadata": {},
   "outputs": [
    {
     "name": "stdout",
     "output_type": "stream",
     "text": [
      "unique antinode locations is 259\n"
     ]
    }
   ],
   "source": [
    "solve_part_1()"
   ]
  }
 ],
 "metadata": {
  "kernelspec": {
   "display_name": "venv",
   "language": "python",
   "name": "python3"
  },
  "language_info": {
   "codemirror_mode": {
    "name": "ipython",
    "version": 3
   },
   "file_extension": ".py",
   "mimetype": "text/x-python",
   "name": "python",
   "nbconvert_exporter": "python",
   "pygments_lexer": "ipython3",
   "version": "3.11.10"
  }
 },
 "nbformat": 4,
 "nbformat_minor": 2
}
