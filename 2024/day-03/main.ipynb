{
 "cells": [
  {
   "cell_type": "code",
   "execution_count": 1,
   "metadata": {},
   "outputs": [],
   "source": [
    "import re"
   ]
  },
  {
   "cell_type": "code",
   "execution_count": 2,
   "metadata": {},
   "outputs": [],
   "source": [
    "def parse_input():\n",
    "    with open(\"./input.txt\", \"r\") as file:\n",
    "        lines = file.read().replace(\"\\n\", \"\")\n",
    "\n",
    "    return lines"
   ]
  },
  {
   "cell_type": "code",
   "execution_count": 3,
   "metadata": {},
   "outputs": [],
   "source": [
    "def find_muls(s: str) -> list[str]:\n",
    "    pattern = r\"mul\\(\\d+,\\d+\\)\"\n",
    "    matches = re.findall(pattern, s)\n",
    "\n",
    "    return matches"
   ]
  },
  {
   "cell_type": "code",
   "execution_count": 4,
   "metadata": {},
   "outputs": [
    {
     "name": "stdout",
     "output_type": "stream",
     "text": [
      "part one result: 178886550\n"
     ]
    }
   ],
   "source": [
    "def solve_part_one():\n",
    "    input = parse_input()\n",
    "    muls = find_muls(input)\n",
    "    result = 0\n",
    "\n",
    "    for s in muls:\n",
    "        pattern = r\"\\d+\"\n",
    "        match = re.findall(pattern, s)\n",
    "        result += int(match[0]) * int(match[1])\n",
    "\n",
    "    return result\n",
    "\n",
    "\n",
    "print(f\"part one result: {solve_part_one()}\")"
   ]
  },
  {
   "cell_type": "code",
   "execution_count": 5,
   "metadata": {},
   "outputs": [
    {
     "name": "stdout",
     "output_type": "stream",
     "text": [
      "part two result: 87163705\n"
     ]
    }
   ],
   "source": [
    "def solve_part_two():\n",
    "    input = parse_input()\n",
    "\n",
    "    input_split_dont_list = input.split(\"don't()\")\n",
    "    for i in range(len(input_split_dont_list)):\n",
    "        if i == 0:\n",
    "            input_split_dont_list[i] = f\"do(){input_split_dont_list[i]}\"\n",
    "        else:\n",
    "            input_split_dont_list[i] = f\"don't(){input_split_dont_list[i]}\"\n",
    "\n",
    "    do_list = list()\n",
    "    for s in input_split_dont_list:\n",
    "        do_pattern = r\"do\\(\\).*\"\n",
    "        match = re.search(do_pattern, s)\n",
    "        if match is not None:\n",
    "            do_list.append(match.group(0))\n",
    "\n",
    "    result = 0\n",
    "    for s in do_list:\n",
    "        muls = find_muls(s)\n",
    "        for m in muls:\n",
    "            pattern = r\"\\d+\"\n",
    "            match = re.findall(pattern, m)\n",
    "            result += int(match[0]) * int(match[1])\n",
    "\n",
    "    return result\n",
    "\n",
    "\n",
    "print(f\"part two result: {solve_part_two()}\")"
   ]
  }
 ],
 "metadata": {
  "kernelspec": {
   "display_name": "venv",
   "language": "python",
   "name": "python3"
  },
  "language_info": {
   "codemirror_mode": {
    "name": "ipython",
    "version": 3
   },
   "file_extension": ".py",
   "mimetype": "text/x-python",
   "name": "python",
   "nbconvert_exporter": "python",
   "pygments_lexer": "ipython3",
   "version": "3.11.10"
  }
 },
 "nbformat": 4,
 "nbformat_minor": 2
}
