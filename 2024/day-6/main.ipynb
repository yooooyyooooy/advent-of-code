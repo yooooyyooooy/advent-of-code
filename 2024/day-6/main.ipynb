{
 "cells": [
  {
   "cell_type": "code",
   "execution_count": 456,
   "metadata": {},
   "outputs": [],
   "source": [
    "from enum import Enum"
   ]
  },
  {
   "cell_type": "markdown",
   "metadata": {},
   "source": [
    "# Part 1"
   ]
  },
  {
   "cell_type": "code",
   "execution_count": 457,
   "metadata": {},
   "outputs": [],
   "source": [
    "class Direction(Enum):\n",
    "    UP = 'UP'\n",
    "    RIGHT = 'RIGHT'\n",
    "    DOWN = 'DOWN'\n",
    "    LEFT = 'LEFT'"
   ]
  },
  {
   "cell_type": "code",
   "execution_count": 458,
   "metadata": {},
   "outputs": [],
   "source": [
    "def parse_input():\n",
    "    with open('input.txt', 'r') as file:\n",
    "        return [list(line.strip()) for line in file]  "
   ]
  },
  {
   "cell_type": "code",
   "execution_count": 459,
   "metadata": {},
   "outputs": [],
   "source": [
    "def get_obstacles_row_col(grid: list) -> set:\n",
    "    obstacles_label = '#'\n",
    "    row_length = len(grid)\n",
    "    col_length = len(grid[0])\n",
    "    \n",
    "    return set((i, j) for i in range(row_length) for j in range(col_length) if grid[i][j] == obstacles_label)"
   ]
  },
  {
   "cell_type": "code",
   "execution_count": 460,
   "metadata": {},
   "outputs": [],
   "source": [
    "def get_start_row_col(grid: list) -> tuple:\n",
    "    start_label = '^'\n",
    "    row_length = len(grid)\n",
    "    col_length = len(grid[0])\n",
    "    \n",
    "    for i in range(row_length):\n",
    "        for j in range(col_length):\n",
    "            if grid[i][j] == start_label:\n",
    "                return (i, j)"
   ]
  },
  {
   "cell_type": "code",
   "execution_count": 461,
   "metadata": {},
   "outputs": [],
   "source": [
    "def get_next_row_col(current_row_col: tuple, current_direction: Direction) -> tuple:\n",
    "    current_row = current_row_col[0]\n",
    "    current_col = current_row_col[1]\n",
    "    \n",
    "    if current_direction == Direction.UP:\n",
    "        return (current_row-1, current_col)\n",
    "    if current_direction == Direction.RIGHT:\n",
    "        return (current_row, current_col+1)\n",
    "    if current_direction == Direction.DOWN:\n",
    "        return (current_row+1, current_col)\n",
    "    if current_direction == Direction.LEFT:\n",
    "        return (current_row, current_col-1)"
   ]
  },
  {
   "cell_type": "code",
   "execution_count": 462,
   "metadata": {},
   "outputs": [],
   "source": [
    "def should_turn_right(current_row_col: tuple, current_direction: Direction, obstacles_row_col: set) -> bool:\n",
    "    next_row_col = get_next_row_col(current_row_col, current_direction)\n",
    "    return next_row_col in obstacles_row_col"
   ]
  },
  {
   "cell_type": "code",
   "execution_count": 463,
   "metadata": {},
   "outputs": [],
   "source": [
    "def get_next_direction_after_turn_right(current_direction: Direction) -> Direction:\n",
    "    if current_direction == Direction.UP:\n",
    "        return Direction.RIGHT\n",
    "    if current_direction == Direction.RIGHT:\n",
    "        return Direction.DOWN\n",
    "    if current_direction == Direction.DOWN:\n",
    "        return Direction.LEFT\n",
    "    if current_direction == Direction.LEFT:\n",
    "        return Direction.UP"
   ]
  },
  {
   "cell_type": "code",
   "execution_count": 464,
   "metadata": {},
   "outputs": [],
   "source": [
    "def check_is_exited(current_direction: Direction, current_row_col: tuple, row_length: int, col_length: int) -> bool:\n",
    "    current_row = current_row_col[0]\n",
    "    current_col = current_row_col[1]\n",
    "    \n",
    "    if current_direction == Direction.UP:\n",
    "        return current_row < 0\n",
    "    if current_direction == Direction.RIGHT:\n",
    "        return current_col == col_length\n",
    "    if current_direction == Direction.DOWN:\n",
    "        return current_row_col[0] == row_length\n",
    "    if current_direction == Direction.LEFT:\n",
    "        return current_col < 0"
   ]
  },
  {
   "cell_type": "code",
   "execution_count": null,
   "metadata": {},
   "outputs": [],
   "source": [
    "def get_guard_visited_row_col(grid: list, start_row_col: tuple, start_direction: Direction) -> set:\n",
    "    row_length = len(grid)\n",
    "    col_length = len(grid[0])\n",
    "    \n",
    "    current_row_col = start_row_col\n",
    "    current_direction = start_direction\n",
    "    obstacles_row_col = get_obstacles_row_col(grid)\n",
    "    is_exited = False\n",
    "    \n",
    "    guard_visited_row_col = set()\n",
    "    while not is_exited:\n",
    "        guard_visited_row_col.add(current_row_col)\n",
    "        \n",
    "        # turn right and stand still if there is an obstacle in front\n",
    "        if should_turn_right(current_row_col, current_direction, obstacles_row_col):\n",
    "            current_direction = get_next_direction_after_turn_right(current_direction)\n",
    "            continue\n",
    "        \n",
    "        # move forward if there is no obstacle in front\n",
    "        current_row_col = get_next_row_col(current_row_col, current_direction)\n",
    "        \n",
    "        # check if the guard has exited the grid\n",
    "        is_exited = check_is_exited(current_direction, current_row_col, row_length, col_length)\n",
    "    \n",
    "    return guard_visited_row_col"
   ]
  },
  {
   "cell_type": "code",
   "execution_count": 466,
   "metadata": {},
   "outputs": [],
   "source": [
    "def solve_part_1():\n",
    "    grid = parse_input()\n",
    "    \n",
    "    start_row_col = get_start_row_col(grid)\n",
    "    start_direction = Direction.UP\n",
    "    guard_visited_row_col = get_guard_visited_row_col(grid, start_row_col, start_direction)\n",
    "    \n",
    "    print(f'the guard has visited {len(guard_visited_row_col)} distinct positions')"
   ]
  },
  {
   "cell_type": "code",
   "execution_count": 467,
   "metadata": {},
   "outputs": [
    {
     "name": "stdout",
     "output_type": "stream",
     "text": [
      "the guard has visited 5242 distinct positions\n"
     ]
    }
   ],
   "source": [
    "solve_part_1()"
   ]
  },
  {
   "cell_type": "markdown",
   "metadata": {},
   "source": [
    "# Part 2"
   ]
  },
  {
   "cell_type": "code",
   "execution_count": 468,
   "metadata": {},
   "outputs": [],
   "source": [
    "def check_is_loop(grid: list, new_obstacles_row_col: set, is_start_row_col: bool, start_row_col: tuple, start_direction: Direction) -> bool:\n",
    "    # the new obstruction can't be placed at the guard's starting position\n",
    "    if is_start_row_col: \n",
    "        return False\n",
    "    \n",
    "    row_length = len(grid)\n",
    "    col_length = len(grid[0])\n",
    "    \n",
    "    current_direction = start_direction\n",
    "    current_row_col = start_row_col\n",
    "    is_exited = False\n",
    "    \n",
    "    guard_visited_row_col_direction = set()\n",
    "    while not is_exited:    \n",
    "        current_row_col_direction = (current_row_col, current_direction)\n",
    "        # is revisit with same direction -> loop occurred\n",
    "        if current_row_col_direction in guard_visited_row_col_direction:\n",
    "            return True\n",
    "        \n",
    "        guard_visited_row_col_direction.add(current_row_col_direction)\n",
    "        \n",
    "        # turn right and stand still if there is an obstacle in front\n",
    "        if should_turn_right(current_row_col, current_direction, new_obstacles_row_col):\n",
    "            current_direction = get_next_direction_after_turn_right(current_direction)\n",
    "            continue\n",
    "        \n",
    "        # move forward if there is no obstacle in front\n",
    "        current_row_col = get_next_row_col(current_row_col, current_direction)\n",
    "        \n",
    "        # check if the guard has exited the grid\n",
    "        is_exited = check_is_exited(current_direction, current_row_col, row_length, col_length)\n",
    "    \n",
    "    # is exited -> loop never occurred\n",
    "    return False \n",
    "    "
   ]
  },
  {
   "cell_type": "code",
   "execution_count": 469,
   "metadata": {},
   "outputs": [],
   "source": [
    "def solve_part_2():\n",
    "    grid = parse_input()\n",
    "    \n",
    "    start_row_col = get_start_row_col(grid)\n",
    "    start_direction = Direction.UP\n",
    "    guard_visited_row_col = get_guard_visited_row_col(grid, start_row_col, start_direction)\n",
    "    \n",
    "    result = 0\n",
    "    for row_col in guard_visited_row_col:\n",
    "        new_obstacles_row_col = get_obstacles_row_col(grid)\n",
    "        new_obstacles_row_col.add(row_col)\n",
    "        if check_is_loop(grid, new_obstacles_row_col, row_col == start_row_col, start_row_col, Direction.UP):\n",
    "            result += 1\n",
    "    \n",
    "    print(f'there are {result} different ways to place an obstacle to create a loop')"
   ]
  },
  {
   "cell_type": "code",
   "execution_count": 470,
   "metadata": {},
   "outputs": [
    {
     "name": "stdout",
     "output_type": "stream",
     "text": [
      "there are 1424 different ways to place an obstacle to create a loop\n"
     ]
    }
   ],
   "source": [
    "solve_part_2()"
   ]
  }
 ],
 "metadata": {
  "kernelspec": {
   "display_name": "venv",
   "language": "python",
   "name": "python3"
  },
  "language_info": {
   "codemirror_mode": {
    "name": "ipython",
    "version": 3
   },
   "file_extension": ".py",
   "mimetype": "text/x-python",
   "name": "python",
   "nbconvert_exporter": "python",
   "pygments_lexer": "ipython3",
   "version": "3.11.10"
  }
 },
 "nbformat": 4,
 "nbformat_minor": 2
}
