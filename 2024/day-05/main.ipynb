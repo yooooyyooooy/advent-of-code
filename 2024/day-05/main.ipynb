{
 "cells": [
  {
   "cell_type": "code",
   "execution_count": 1,
   "metadata": {},
   "outputs": [],
   "source": [
    "def parse_input_1():\n",
    "    result = []\n",
    "\n",
    "    with open(\"input-1.txt\", \"r\") as file:\n",
    "        for line in file:\n",
    "            stripped_line = line.strip()\n",
    "            test = stripped_line.split(\"|\")\n",
    "            result.append((test[0], test[1]))\n",
    "\n",
    "    return result"
   ]
  },
  {
   "cell_type": "code",
   "execution_count": 2,
   "metadata": {},
   "outputs": [],
   "source": [
    "def parse_input_2():\n",
    "    with open(\"input-2.txt\", \"r\") as file:\n",
    "        return [line.strip().split(\",\") for line in file]"
   ]
  },
  {
   "cell_type": "markdown",
   "metadata": {},
   "source": [
    "# Part 1\n"
   ]
  },
  {
   "cell_type": "code",
   "execution_count": 3,
   "metadata": {},
   "outputs": [],
   "source": [
    "def create_order_dict(order_list):\n",
    "    order_dict = {}\n",
    "\n",
    "    for order in order_list:\n",
    "        former = order[0]\n",
    "        latter = order[1]\n",
    "\n",
    "        if former not in order_dict:\n",
    "            order_dict[former] = set()\n",
    "\n",
    "        order_dict[former].add(latter)\n",
    "\n",
    "    return order_dict"
   ]
  },
  {
   "cell_type": "code",
   "execution_count": 4,
   "metadata": {},
   "outputs": [],
   "source": [
    "def check_is_correct_order(page_sequence, order_dict):\n",
    "    for i in range(0, len(page_sequence) - 1):\n",
    "        former = page_sequence[i]\n",
    "        latters = page_sequence[i + 1 :]\n",
    "\n",
    "        if former not in order_dict:\n",
    "            return False\n",
    "\n",
    "        for latter in latters:\n",
    "            if latter not in order_dict[former]:\n",
    "                return False\n",
    "\n",
    "    return True\n",
    "\n",
    "\n",
    "order_dict = create_order_dict(parse_input_1())"
   ]
  },
  {
   "cell_type": "code",
   "execution_count": 5,
   "metadata": {},
   "outputs": [],
   "source": [
    "def get_middle_page(page_sequence):\n",
    "    return int(page_sequence[len(page_sequence) // 2])"
   ]
  },
  {
   "cell_type": "code",
   "execution_count": 6,
   "metadata": {},
   "outputs": [],
   "source": [
    "def solve_part_1():\n",
    "    order_list = parse_input_1()\n",
    "    page_sequence_list = parse_input_2()\n",
    "    order_dict = create_order_dict(order_list)\n",
    "\n",
    "    result = 0\n",
    "    for page_sequence in page_sequence_list:\n",
    "        if check_is_correct_order(page_sequence, order_dict):\n",
    "            result += get_middle_page(page_sequence)\n",
    "\n",
    "    return result"
   ]
  },
  {
   "cell_type": "code",
   "execution_count": 7,
   "metadata": {},
   "outputs": [
    {
     "name": "stdout",
     "output_type": "stream",
     "text": [
      "the sum of middle pages is 6267\n"
     ]
    }
   ],
   "source": [
    "print(f\"the sum of middle pages is {solve_part_1()}\")"
   ]
  },
  {
   "cell_type": "markdown",
   "metadata": {},
   "source": [
    "# Part 2\n"
   ]
  },
  {
   "cell_type": "code",
   "execution_count": 8,
   "metadata": {},
   "outputs": [],
   "source": [
    "def get_incorrect_order_page_sequences(page_sequence_list, order_dict):\n",
    "    result = list()\n",
    "\n",
    "    for page_sequence in page_sequence_list:\n",
    "        if not check_is_correct_order(page_sequence, order_dict):\n",
    "            result.append(page_sequence)\n",
    "\n",
    "    return result"
   ]
  },
  {
   "cell_type": "code",
   "execution_count": 9,
   "metadata": {},
   "outputs": [],
   "source": [
    "def reorder_incorrect_page_sequence(page_sequence, order_dict):\n",
    "    result = list()\n",
    "    for i in range(0, len(page_sequence)):\n",
    "        current_page = page_sequence[i]\n",
    "\n",
    "        result.append(current_page)\n",
    "\n",
    "        # first iteration of re-ordering or current page is a final page\n",
    "        if len(result) == 1 or current_page not in order_dict:\n",
    "            continue\n",
    "\n",
    "        current_result_length = len(result)\n",
    "        ordered_pages = result[:current_result_length]\n",
    "        for j in range(len(ordered_pages)):\n",
    "            ordered_page = ordered_pages[j]\n",
    "\n",
    "            # current page is before ordered page\n",
    "            if ordered_page in order_dict[current_page]:\n",
    "                result.insert(j, current_page)\n",
    "                result.pop()\n",
    "                break\n",
    "\n",
    "    return result"
   ]
  },
  {
   "cell_type": "code",
   "execution_count": 10,
   "metadata": {},
   "outputs": [],
   "source": [
    "def solve_part_2():\n",
    "    order_list = parse_input_1()\n",
    "    page_sequence_list = parse_input_2()\n",
    "    order_dict = create_order_dict(order_list)\n",
    "\n",
    "    incorrect_order_page_sequence_list = get_incorrect_order_page_sequences(page_sequence_list, order_dict)\n",
    "\n",
    "    result = 0\n",
    "    for page_sequence in incorrect_order_page_sequence_list:\n",
    "        reordered_page_sequence = reorder_incorrect_page_sequence(page_sequence, order_dict)\n",
    "        result += get_middle_page(reordered_page_sequence)\n",
    "\n",
    "    return result"
   ]
  },
  {
   "cell_type": "code",
   "execution_count": 11,
   "metadata": {},
   "outputs": [
    {
     "name": "stdout",
     "output_type": "stream",
     "text": [
      "the sum of middle pages of reordered incorrect order pages is 5184\n"
     ]
    }
   ],
   "source": [
    "print(f\"the sum of middle pages of reordered incorrect order pages is {solve_part_2()}\")"
   ]
  }
 ],
 "metadata": {
  "kernelspec": {
   "display_name": "venv",
   "language": "python",
   "name": "python3"
  },
  "language_info": {
   "codemirror_mode": {
    "name": "ipython",
    "version": 3
   },
   "file_extension": ".py",
   "mimetype": "text/x-python",
   "name": "python",
   "nbconvert_exporter": "python",
   "pygments_lexer": "ipython3",
   "version": "3.11.10"
  }
 },
 "nbformat": 4,
 "nbformat_minor": 2
}
